{
 "cells": [
  {
   "cell_type": "code",
   "execution_count": 1,
   "metadata": {},
   "outputs": [],
   "source": [
    "from hyperopt import hp\n",
    "\n",
    "# 목적함수를 정의 (최소값을 알아냄)\n",
    "def objective_func(search_space):\n",
    "    # 트래닝하고 정확도의 음수를 반환\n",
    "    x = search_space['x']\n",
    "    y = search_space['y']\n",
    "\n",
    "    return x ** 2 - 20 * y\n",
    "\n",
    "search_space = {}\n",
    "search_space['x'] = hp.quniform('x', -10, 10, 1)\n",
    "search_space['y'] = hp.quniform('y', -15, 15, 1)"
   ]
  },
  {
   "cell_type": "code",
   "execution_count": 2,
   "metadata": {},
   "outputs": [
    {
     "name": "stdout",
     "output_type": "stream",
     "text": [
      "100%|██████████| 20/20 [00:00<00:00, 2000.00trial/s, best loss: -251.0]\n",
      "{'x': 3.0, 'y': 13.0}\n"
     ]
    }
   ],
   "source": [
    "from hyperopt import fmin, tpe, Trials\n",
    "\n",
    "trial = Trials()\n",
    "best_param = fmin(fn = objective_func, space = search_space, algo = tpe.suggest, max_evals = 20, trials = trial)\n",
    "\n",
    "print(best_param)\n",
    "\n",
    "# evlas = 5,    {'x': -8.0, 'y': 6.0}\n",
    "# evlas = 20,   {'x': -1.0, 'y': 13.0}"
   ]
  },
  {
   "cell_type": "code",
   "execution_count": 3,
   "metadata": {},
   "outputs": [],
   "source": [
    "import pandas as pd\n",
    "\n",
    "df = pd.read_csv('../data/Europe Hotel Booking Satisfaction Score.csv')\n",
    "\n",
    "# 함수화\n",
    "from sklearn.preprocessing import LabelEncoder\n",
    "from sklearn.model_selection import train_test_split\n",
    "\n",
    "def preprocess(df, label_column, drop_columns = None, onehot_columns = None):\n",
    "    if(drop_columns):\n",
    "        df.drop(drop_columns, axis = 1, inplace = True)\n",
    "    \n",
    "    encoder = LabelEncoder()\n",
    "    encoder.fit(df[label_column])\n",
    "    df[label_column] = encoder.transform(df[label_column])\n",
    "\n",
    "    df = pd.get_dummies(df, columns = onehot_columns)\n",
    "\n",
    "    X = df.drop(label_column, axis = 1)\n",
    "    y = df[label_column]\n",
    "\n",
    "    return X, y\n",
    "\n",
    "X, y = preprocess(df, 'satisfaction', ['id'], ['Gender', 'purpose_of_travel', 'Type of Travel', 'Type Of Booking'])\n",
    "\n",
    "# 표준화 혹은 정규화\n",
    "from sklearn.preprocessing import StandardScaler, MinMaxScaler\n",
    "\n",
    "scaler = MinMaxScaler()\n",
    "scaler.fit(X)\n",
    "scaled_X = scaler.transform(X)\n",
    "X = pd.DataFrame(scaled_X, columns = X.columns)\n",
    "\n",
    "X_train, X_test, y_train, y_test = train_test_split(X, y, test_size = .3, stratify = y, random_state = 121)"
   ]
  },
  {
   "cell_type": "code",
   "execution_count": 8,
   "metadata": {},
   "outputs": [
    {
     "name": "stdout",
     "output_type": "stream",
     "text": [
      "100%|██████████| 300/300 [01:30<00:00,  3.32trial/s, best loss: -0.9350767513194264]\n",
      "{'max_depth': 0, 'min_samples_leaf': 4, 'min_samples_split': 17}\n"
     ]
    }
   ],
   "source": [
    "from sklearn.model_selection import cross_val_score\n",
    "from sklearn.tree import DecisionTreeClassifier\n",
    "from hyperopt import fmin, tpe, hp, Trials\n",
    "\n",
    "# 목적함수\n",
    "def objective_func(params):\n",
    "    clf = DecisionTreeClassifier(max_depth = params['max_depth'], min_samples_split = params['min_samples_split'], min_samples_leaf = params['min_samples_leaf'])\n",
    "\n",
    "    score = cross_val_score(clf, X_train, y_train, cv = 5, n_jobs = 5).mean()\n",
    "\n",
    "    return -1 * score\n",
    "\n",
    "# 파라미터 공간 정의\n",
    "params = {}\n",
    "params['max_depth'] = hp.choice('max_depth', [None, 2, 3, 4, 5, 6, 7, 8, 9, 10, 15, 20])\n",
    "params['min_samples_split'] = hp.randint('min_samples_split', 2, 20)\n",
    "params['min_samples_leaf'] = hp.randint('min_samples_leaf', 2, 20)\n",
    "\n",
    "trials = Trials()\n",
    "best_param = fmin(fn = objective_func, space = params, algo = tpe.suggest, max_evals = 300, trials = trials)\n",
    "\n",
    "print(best_param)"
   ]
  }
 ],
 "metadata": {
  "kernelspec": {
   "display_name": "Python 3",
   "language": "python",
   "name": "python3"
  },
  "language_info": {
   "codemirror_mode": {
    "name": "ipython",
    "version": 3
   },
   "file_extension": ".py",
   "mimetype": "text/x-python",
   "name": "python",
   "nbconvert_exporter": "python",
   "pygments_lexer": "ipython3",
   "version": "3.12.4"
  }
 },
 "nbformat": 4,
 "nbformat_minor": 2
}
