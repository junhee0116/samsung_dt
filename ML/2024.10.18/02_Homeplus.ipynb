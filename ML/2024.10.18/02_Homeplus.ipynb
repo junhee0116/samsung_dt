{
 "cells": [
  {
   "cell_type": "code",
   "execution_count": null,
   "metadata": {},
   "outputs": [],
   "source": [
    "from bs4 import BeautifulSoup\n",
    "import requests as req\n",
    "\n",
    "url = 'https://mfront.homeplus.co.kr/list?categoryDepth=2&categoryId=200009'\n",
    "res = req.get(url)\n",
    "\n",
    "soup = BeautifulSoup(res.content, 'html.parser')\n",
    "print(soup)"
   ]
  },
  {
   "cell_type": "code",
   "execution_count": 3,
   "metadata": {},
   "outputs": [
    {
     "name": "stdout",
     "output_type": "stream",
     "text": [
      "None\n"
     ]
    }
   ],
   "source": [
    "# 각 상품별로 상품명과 가격을 추출\n",
    "\n",
    "# 1. 각 상품을 모두 포함하는 부모 태그의 selector 복사\n",
    "css_selector = '#site-wrapper > div.content-container.filterTopLine.css-1n2pp32 > div.category-container-wrap > div.category-prod-list-wrap > div.infinite-scroll-component__outerdiv > div > div.unitItemWrap.typeCard.css-dyb522'\n",
    "item_parent = soup.select_one(css_selector)\n",
    "print(item_parent)\n",
    "\n",
    "# 2. 모든 상품을 find_all 함수를 이용해 추출\n",
    "# items = item_parent.find_all('')\n",
    "\n",
    "# for item in items:\n",
    "#     print(item)"
   ]
  },
  {
   "cell_type": "code",
   "execution_count": 19,
   "metadata": {},
   "outputs": [
    {
     "name": "stdout",
     "output_type": "stream",
     "text": [
      "{'count': 2, 'customers_list': [{'name': 'michael', 'city': 'seoul'}, {'name': 'bill', 'city': 'busan'}]}\n",
      "michael\n"
     ]
    }
   ],
   "source": [
    "# Dictionary\n",
    "# key: value로 관리할 수 있는 자료구조\n",
    "dic = {'name': 'junhee', 'age': 50}\n",
    "# print(dic['name'])\n",
    "\n",
    "# customers = {}\n",
    "customers = dict()\n",
    "customers['count'] = 2\n",
    "customers['customers_list'] = list()\n",
    "customers['customers_list'].append({'name': 'michael', 'city': 'seoul'})\n",
    "customers['customers_list'].append({'name': 'bill', 'city': 'busan'})\n",
    "\n",
    "print(customers)\n",
    "\n",
    "print(customers['customers_list'][0]['name'])"
   ]
  },
  {
   "cell_type": "code",
   "execution_count": 22,
   "metadata": {},
   "outputs": [
    {
     "name": "stdout",
     "output_type": "stream",
     "text": [
      "14Brix 감홍사과 4-7입(봉)\n",
      "12Brix 맛난이 사과 1.8KG(봉)\n",
      "12Brix 유명산지 홍로사과 5-9입(봉)\n",
      "달고 아삭한 사과대추 450G(팩)\n",
      "11Brix 신고배(국산/개)\n",
      "맛난이 배(봉)\n",
      "12Brix 홍옥사과 6-7입(팩)\n",
      "루비에스 미니사과 500G(팩)\n",
      "12Brix 시나노골드 (개)\n",
      "[10월 21일 순차출고] 복숭아사과 피치애플 가정용 엔부사과 2.5kg (6-12과)\n",
      "황금사과 꿀사과 시나노골드 가정용 4.5kg 중소과 (19-21)\n",
      "국내산 부사사과 가정용 3kg (19-21과)\n",
      "국내산 시나노골드 황금사과 쥬스용 6kg\n",
      "포미식탁 경북 고당도 사과 감홍사과 정품 중과 2kg (8과내외)\n",
      "포미식탁 못난이 감홍 사과 가정용 A급 중과 10kg (kg당5개내외)\n",
      "황금사과 시나노골드 5kg 중대과 20-24과\n",
      "황금사과 시나노골드 5kg 중소과 30-35과\n",
      "2024년 이때만 먹을수있는 사과 홍옥사과2.5kg(10~19입) 소과 가정용흠과 [10/\n",
      "(가정용) 경북 홍로 사과 2kg(소과/12-13과)\n",
      "[산지직송][산들네] 껍질째 먹는 경북 세척 꼬마사과 4.5kg 28-33과내\n"
     ]
    }
   ],
   "source": [
    "# Network - Fetch/XHR - item.json\n",
    "import json\n",
    "\n",
    "url = 'https://mfront.homeplus.co.kr/category/item.json?categoryDepth=2&categoryId=200009&page=1&perPage=20&sort=RANK'\n",
    "res = req.get(url)\n",
    "\n",
    "j = json.loads(res.text)    # 이제 list, dict 형태로 접근 가능\n",
    "\n",
    "items = j['data']['dataList']\n",
    "\n",
    "for item in items:  \n",
    "    print(item['itemNm'])"
   ]
  },
  {
   "cell_type": "code",
   "execution_count": 40,
   "metadata": {},
   "outputs": [
    {
     "name": "stdout",
     "output_type": "stream",
     "text": [
      "국내산 돼지고기 대패 앞다리살 (냉동) (800G), 11900\n",
      "무화과 훈제오리슬라이스 (500G), 14990\n",
      "호주산 청정와규 야끼니꾸 (400G), 19900\n",
      "1+등급 무항생제 백색란 (대란/10구), 3990\n",
      "캐나다산 돼지 목심 구이용(냉장) (100G), 1990\n",
      "요리하다 날개 살로만 훈제오리 (350G), 8340\n",
      "한우 양지 국거리용 (1등급) (150G), 13470\n",
      "[셀프쿠킹] 미국산 CR 소 초이스 아롱사태 (냉장) (100G), 2520\n",
      "무항생제 신선오리슬라이스 (500G), 8990\n",
      "추억의 한입 삼겹살 (냉동) (500G), 9900\n",
      "한우 정육 불고기용 (1등급) (300G), 17940\n",
      "한우 홍두깨살 육전용(1++(9)등급) (200G), 14980\n",
      "하림 두마리 복닭(영계) (1.1KG), 10990\n",
      "미국산 냉동 LA식 갈비 (1KG), 39900\n",
      "하얀반숙란 설란 (6입/240G), 3690\n",
      "풀무원 동물복지 유정란(10입) (520G), 7990\n",
      "[구이용] 미국산 소 초이스 살치살 (냉장) (100G), 5390\n",
      "한우 안심 스테이크용 (1++(9)등급) (200G), 31180\n",
      "3일돼지 앞다리 찌개용 (300G), 8040\n",
      "한우 등심 스테이크용 (1++(9)등급) (300G), 35970\n",
      "자유방목 유정란 (대란, 6입) (312G), 3990\n",
      "하림 동물복지 닭다리살 (300G), 8490\n",
      "하림 닭 볶음탕용 (1.2KG), 10990\n",
      "호주산 와규 양지(국거리용) (400G), 14840\n",
      "3일돼지 삼겹살 구이용 (500G), 14700\n",
      "국내산 돼지 삼겹살 구이용 (냉장) (600G), 19140\n",
      "3일돼지 목심 구이용 (500G), 14700\n",
      "(냉동)하림 IFF 닭가슴살 (900G), 8900\n",
      "행복생생란(왕란, 6입) (408G), 2990\n",
      "하림 동물복지 닭다리 (400G), 8490\n",
      "돈담음 돼지 삼겹살 수육용(냉장) (100G), 4690\n",
      "미국산 소 초이스 꽃갈비살 (냉장) (100G), 7920\n",
      "풀무원 1+등급 신선란(25입) (1300G), 11990\n",
      "풀무원 깐메추리알 (630G), 10990\n",
      "오늘좋은 통통 메추리알 (300G), 3990\n",
      "한우 양지 국거리용 (1등급) (300G), 26940\n",
      "스페인산 돼지고기 대패 목심 (냉동) (1KG), 15900\n",
      "동물복지 닭다리(북채) (300G), 7990\n",
      "CJ 건강한 닭가슴살 통살훈제 (100G), 4480\n",
      "호주산 와규 5초 구이 (600G), 25800\n",
      "한우 치마살 구이용 (1++(9)등급) (200G), 29980\n",
      "풀무원 깐메추리알유정란 (450G), 8790\n",
      "하림 동물복지 닭안심 (300G), 7990\n",
      "하림 동물복지 닭가슴살 (400G), 8990\n",
      "한우 이유식용 큐브팩 (200G), 13960\n",
      "참나무훈연 훈제삼겹슬라이스 (400G), 7740\n",
      "국내산 돼지 대패 삼겹살 (냉장) (600G), 20340\n",
      "동물복지 닭안심 (500G), 9990\n",
      "수제 모둠 소시지 (1KG), 12900\n",
      "호주청정우 만능 다짐육 (900G), 18900\n",
      "한우 사골 (1.5KG), 9900\n",
      "(냉동)하림 IFF 닭다리살(정육) (600G), 8900\n",
      "양념 춘천식 순살 닭갈비 (600G), 12900\n",
      "호주산 냉동 LA식 갈비 (1KG), 39900\n",
      "요리하다 장충동 담백한편육 (265G), 6490\n",
      "[카레용] 돈담음돼지안심 (냉장) (100G), 2890\n",
      "실속 메추리알(56입) (560G), 6290\n",
      "돈담음돼지항정살 (냉장) (100G), 7590\n",
      "무항생제 오리 주물럭용 (500G), 9990\n",
      "동물복지 닭윗날개(봉) (500G), 9990\n"
     ]
    }
   ],
   "source": [
    "# 롯데마트\n",
    "import json\n",
    "\n",
    "url = 'https://www.lotteon.com/search/render/render.ecn?&u2=60&u3=60&render=nqapi&platform=pc&collection_id=301&u9=navigateProduct&u4=lm10100014&login=Y&u39=0'\n",
    "res = req.get(url)\n",
    "\n",
    "j = json.loads(res.text)\n",
    "\n",
    "items = j['itemList']\n",
    "\n",
    "for item in items:\n",
    "    if(len(item['priceInfo']) == 3):\n",
    "        print('{}, {}'.format(item['productName'], item['priceInfo'][2]['num']))\n",
    "    elif(len(item['priceInfo']) == 1):\n",
    "        print('{}, {}'.format(item['productName'], item['priceInfo'][0]['num']))\n",
    "    elif(len(item['priceInfo']) == 2):\n",
    "        print('{}, {}'.format(item['productName'], item['priceInfo'][1]['num']))"
   ]
  }
 ],
 "metadata": {
  "kernelspec": {
   "display_name": "Python 3",
   "language": "python",
   "name": "python3"
  },
  "language_info": {
   "codemirror_mode": {
    "name": "ipython",
    "version": 3
   },
   "file_extension": ".py",
   "mimetype": "text/x-python",
   "name": "python",
   "nbconvert_exporter": "python",
   "pygments_lexer": "ipython3",
   "version": "3.12.4"
  }
 },
 "nbformat": 4,
 "nbformat_minor": 2
}
