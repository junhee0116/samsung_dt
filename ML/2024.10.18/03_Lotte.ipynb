{
 "cells": [
  {
   "cell_type": "code",
   "execution_count": 2,
   "metadata": {},
   "outputs": [],
   "source": [
    "# pip install selenium"
   ]
  },
  {
   "cell_type": "code",
   "execution_count": 3,
   "metadata": {},
   "outputs": [],
   "source": [
    "from selenium import webdriver\n",
    "from selenium.webdriver.chrome.service import Service\n",
    "from bs4 import BeautifulSoup\n",
    "\n",
    "driver_path = r'D:\\ML\\chromedriver-win64\\chromedriver.exe'\n",
    "service = Service(executable_path = driver_path)\n",
    "driver = webdriver.Chrome(service = service)\n",
    "\n",
    "url = 'https://www.lotteon.com/search/render/render.ecn?render=nqapi&platform=pc&collection_id=301&u9=navigate&u8=LM10100014&login=Y&mallId=4'\n",
    "driver.get(url)     # chrome과 연결"
   ]
  },
  {
   "cell_type": "code",
   "execution_count": 14,
   "metadata": {},
   "outputs": [
    {
     "name": "stdout",
     "output_type": "stream",
     "text": [
      " 한우 정육 국거리 (1++(9)등급) (250G) 40\n",
      " 한우 정육 불고기 (1++(9)등급) (300G) 39\n",
      " 한우 등심 구이용 (1++(9)등급) (250G) 40\n",
      " 일반한우 정육 다짐육 (1등급 이상) (250G) 14,950\n",
      " 한우 정육 국거리용 (1등급) (300G) 17,940\n",
      " 한우 정육 샤브샤브(1++(9)등급) (250G) 40\n",
      " 한우 채끝 구이용 (1++(9)등급) (200G) 39\n",
      " 한우 양지 국거리용 (1등급) (150G) 13,470\n"
     ]
    }
   ],
   "source": [
    "soup = BeautifulSoup(driver.page_source, 'html.parser')\n",
    "selector = '#s-widget2-customer-best-panel > div.s-goods-grid.s-goods-grid--col-4 > ul'\n",
    "\n",
    "items = soup.select_one(selector).find_all('li')\n",
    "\n",
    "for item in items:\n",
    "    item_name = item.find('div', class_ = \"s-goods-title\")\n",
    "    item_price = item.find('span', class_ = \"s-goods-price__number\")\n",
    "    print(item_name.text, item_price.text)"
   ]
  }
 ],
 "metadata": {
  "kernelspec": {
   "display_name": "Python 3",
   "language": "python",
   "name": "python3"
  },
  "language_info": {
   "codemirror_mode": {
    "name": "ipython",
    "version": 3
   },
   "file_extension": ".py",
   "mimetype": "text/x-python",
   "name": "python",
   "nbconvert_exporter": "python",
   "pygments_lexer": "ipython3",
   "version": "3.12.4"
  }
 },
 "nbformat": 4,
 "nbformat_minor": 2
}
