{
 "cells": [
  {
   "cell_type": "code",
   "execution_count": null,
   "metadata": {},
   "outputs": [],
   "source": [
    "# 1. 02_Homeplus.ipynb에서 수집한 상품정보를 Homeplus.csv 파일로 저장\n",
    "import requests as req\n",
    "import json\n",
    "import pandas as pd\n",
    "\n",
    "url = 'https://mfront.homeplus.co.kr/category/item.json?categoryDepth=2&categoryId=200009&page=1&perPage=20&sort=RANK'\n",
    "res = req.get(url)\n",
    "\n",
    "j = json.loads(res.text)\n",
    "\n",
    "items = j['data']['dataList']\n",
    "\n",
    "'''\n",
    "item = []\n",
    "\n",
    "for i in items:\n",
    "    item.append([item['itemNm'], item['singlePrice']])\n",
    "\n",
    "df = pd.DataFrame(item, colums = ['itemName', 'itemPrice'])\n",
    "'''\n",
    "\n",
    "item_name = []\n",
    "item_price = []\n",
    "\n",
    "for item in items:  \n",
    "    item_name.append(item['itemNm'])\n",
    "    item_price.append(item['singlePrice'])\n",
    "\n",
    "df = pd.DataFrame(list(zip(item_name, item_price)), columns = ['itemName', 'itemPrice'])\n",
    "\n",
    "df.to_csv('Homeplus.csv', index = False, header = False)"
   ]
  }
 ],
 "metadata": {
  "kernelspec": {
   "display_name": "Python 3",
   "language": "python",
   "name": "python3"
  },
  "language_info": {
   "codemirror_mode": {
    "name": "ipython",
    "version": 3
   },
   "file_extension": ".py",
   "mimetype": "text/x-python",
   "name": "python",
   "nbconvert_exporter": "python",
   "pygments_lexer": "ipython3",
   "version": "3.12.4"
  }
 },
 "nbformat": 4,
 "nbformat_minor": 2
}
