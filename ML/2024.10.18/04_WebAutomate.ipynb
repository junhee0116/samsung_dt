{
 "cells": [
  {
   "cell_type": "code",
   "execution_count": 8,
   "metadata": {},
   "outputs": [],
   "source": [
    "from selenium import webdriver\n",
    "from selenium.webdriver.chrome.service import Service\n",
    "from selenium.webdriver.common.by import By\n",
    "\n",
    "driver_path = r'D:\\ML\\chromedriver-win64\\chromedriver.exe'\n",
    "service = Service(executable_path = driver_path)\n",
    "driver = webdriver.Chrome(service = service)\n",
    "\n",
    "url = 'https://datatrend.kakao.com/'\n",
    "driver.get(url)     # chrome과 연결"
   ]
  },
  {
   "cell_type": "code",
   "execution_count": 13,
   "metadata": {},
   "outputs": [],
   "source": [
    "import time\n",
    "\n",
    "# 검색어 입력\n",
    "selector = '#keyword'\n",
    "input_box = driver.find_element(By.CSS_SELECTOR, selector)\n",
    "input_box.clear()   # 기존 내용을 삭제\n",
    "input_box.send_keys('삼성중공업')\n",
    "time.sleep(3)\n",
    "\n",
    "# 기간을 전체로 설정\n",
    "selector = '#root > div > div > main > article > div.wrap_select > div.box_select > div.wrap_period > div.option_check > label:nth-child(1) > span'\n",
    "button = driver.find_element(By.CSS_SELECTOR, selector)\n",
    "button.click()\n",
    "time.sleep(3)       # 3초 대기\n",
    "\n",
    "# 검색어 조회하기\n",
    "selector = '#root > div > div > main > article > div.wrap_btn > button.btn_search'\n",
    "button = driver.find_element(By.CSS_SELECTOR, selector)\n",
    "button.click()"
   ]
  }
 ],
 "metadata": {
  "kernelspec": {
   "display_name": "Python 3",
   "language": "python",
   "name": "python3"
  },
  "language_info": {
   "codemirror_mode": {
    "name": "ipython",
    "version": 3
   },
   "file_extension": ".py",
   "mimetype": "text/x-python",
   "name": "python",
   "nbconvert_exporter": "python",
   "pygments_lexer": "ipython3",
   "version": "3.12.4"
  }
 },
 "nbformat": 4,
 "nbformat_minor": 2
}
