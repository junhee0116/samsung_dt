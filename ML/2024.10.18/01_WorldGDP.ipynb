{
 "cells": [
  {
   "cell_type": "code",
   "execution_count": 4,
   "metadata": {},
   "outputs": [],
   "source": [
    "# requests 모듈은 HTTP 요청을 간편하게 보낼 수 있도록 설계된 라이브러리\n",
    "# pip install requests"
   ]
  },
  {
   "cell_type": "code",
   "execution_count": null,
   "metadata": {},
   "outputs": [],
   "source": [
    "import requests as req\n",
    "\n",
    "url = 'https://www.worldometers.info/gdp/gdp-by-country/'\n",
    "# HTTP GET 요청을 보내고, 서버로부터 응답을 받아옵니다.\n",
    "res = req.get(url)\n",
    "\n",
    "print(res.text)"
   ]
  },
  {
   "cell_type": "code",
   "execution_count": null,
   "metadata": {},
   "outputs": [],
   "source": [
    "# 상태코드 출력\n",
    "print(res.status_code)"
   ]
  },
  {
   "cell_type": "code",
   "execution_count": null,
   "metadata": {},
   "outputs": [],
   "source": [
    "# 응답 헤더 출력\n",
    "print(res.headers)"
   ]
  },
  {
   "cell_type": "code",
   "execution_count": 14,
   "metadata": {},
   "outputs": [],
   "source": [
    "# 웹 스크래핑을 쉽게 할 수 있도록 도와주는 라이브러리\n",
    "# pip install BeautifulSoup"
   ]
  },
  {
   "cell_type": "code",
   "execution_count": null,
   "metadata": {},
   "outputs": [],
   "source": [
    "# html 문자열을 구조화하여 구조를 쉽게 탐색하고, 필요한 정보를 효율적으로 가져올 수 있습니다.\n",
    "from bs4 import BeautifulSoup\n",
    "\n",
    "soup = BeautifulSoup(res.text, 'html.parser')\n",
    "\n",
    "print(soup)"
   ]
  },
  {
   "cell_type": "code",
   "execution_count": null,
   "metadata": {},
   "outputs": [],
   "source": [
    "# 구조화된 html 문서에서 불러올 좌표를 지정\n",
    "css_selector = '#example2 > tbody > tr:nth-child(1) > td:nth-child(3)'\n",
    "\n",
    "usa_gdp = soup.select_one(css_selector)\n",
    "print(usa_gdp)\n",
    "\n",
    "usa_gdp_value = usa_gdp.text    # text == content\n",
    "print(usa_gdp_value)    # $25,462,700,000,000\n",
    "\n",
    "''' usa_gdp_value라는 변수에 $25,462,700,000,000 라는 값이 저장되어 있다.\n",
    "여기서 $와 , 문자열을 제거하는 python 코드를 작성해줘 '''\n",
    "\n",
    "# '$'와 ',' 문자열 제거\n",
    "usa_gdp_value = usa_gdp_value.replace('$', '').replace(',', '')\n",
    "print(usa_gdp_value)    # 25462700000000"
   ]
  },
  {
   "cell_type": "code",
   "execution_count": null,
   "metadata": {},
   "outputs": [],
   "source": [
    "css_selector = '#example2 > tbody'\n",
    "tbody = soup.select_one(css_selector)\n",
    "\n",
    "rows = tbody.find_all('tr')     # list[]\n",
    "\n",
    "for row in rows:\n",
    "    cols = row.find_all('td')   # list[]\n",
    "    rank = cols[0].text\n",
    "    country = cols[1].text\n",
    "    gdp = cols[2].text\n",
    "    print('{} - {} - {}'.format(rank, country, gdp))"
   ]
  }
 ],
 "metadata": {
  "kernelspec": {
   "display_name": "Python 3",
   "language": "python",
   "name": "python3"
  },
  "language_info": {
   "codemirror_mode": {
    "name": "ipython",
    "version": 3
   },
   "file_extension": ".py",
   "mimetype": "text/x-python",
   "name": "python",
   "nbconvert_exporter": "python",
   "pygments_lexer": "ipython3",
   "version": "3.12.4"
  }
 },
 "nbformat": 4,
 "nbformat_minor": 2
}
