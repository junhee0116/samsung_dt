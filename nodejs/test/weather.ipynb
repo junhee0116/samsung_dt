{
 "cells": [
  {
   "cell_type": "code",
   "execution_count": 7,
   "metadata": {},
   "outputs": [
    {
     "name": "stdout",
     "output_type": "stream",
     "text": [
      "{'coord': {'lon': 128.6025, 'lat': 34.8988}, 'weather': [{'id': 800, 'main': 'Clear', 'description': 'clear sky', 'icon': '01d'}], 'base': 'stations', 'main': {'temp': 299.75, 'feels_like': 299.75, 'temp_min': 299.75, 'temp_max': 299.75, 'pressure': 1010, 'humidity': 66, 'sea_level': 1010, 'grnd_level': 1009}, 'visibility': 10000, 'wind': {'speed': 7.99, 'deg': 76, 'gust': 9.32}, 'clouds': {'all': 8}, 'dt': 1725351209, 'sys': {'country': 'KR', 'sunrise': 1725310796, 'sunset': 1725357026}, 'timezone': 32400, 'id': 1949757, 'name': 'Kŏje', 'cod': 200}\n"
     ]
    }
   ],
   "source": [
    "import requests\n",
    "import json\n",
    "\n",
    "lat = \"34.8988\"\n",
    "lon = \"128.6025\"\n",
    "apikey = \"12cbb94c69458b0c45a01c760c2e7bf1\"\n",
    "lang = \"kr\"\n",
    "\n",
    "api = f\"\"\"http://api.openweathermap.org/data/2.5/weather?lat={lat}&lon={lon}&appid={apikey}\"\"\"\n",
    "\n",
    "result = requests.get(api)\n",
    "\n",
    "data = json.loads(result.text)\n",
    "\n",
    "print(data)\n",
    "\n",
    "# 지역 : name\n",
    "print(data[\"name\"],\"의 날씨입니다.\")\n",
    "# 자세한 날씨 : weather - description\n",
    "print(\"날씨는 \",data[\"weather\"][0][\"description\"],\"입니다.\")\n",
    "# 현재 온도 : main - temp\n",
    "print(\"현재 온도는 \",data[\"main\"][\"temp\"],\"입니다.\")\n",
    "# 체감 온도 : main - feels_like\n",
    "print(\"하지만 체감 온도는 \",data[\"main\"][\"feels_like\"],\"입니다.\")\n",
    "# 최저 기온 : main - temp_min\n",
    "print(\"최저 기온은 \",data[\"main\"][\"temp_min\"],\"입니다.\")\n",
    "# 최고 기온 : main - temp_max\n",
    "print(\"최고 기온은 \",data[\"main\"][\"temp_max\"],\"입니다.\")\n",
    "# 습도 : main - humidity\n",
    "print(\"습도는 \",data[\"main\"][\"humidity\"],\"입니다.\")\n",
    "# 기압 : main - pressure\n",
    "print(\"기압은 \",data[\"main\"][\"pressure\"],\"입니다.\")\n",
    "# 풍향 : wind - deg\n",
    "print(\"풍향은 \",data[\"wind\"][\"deg\"],\"입니다.\")\n",
    "# 풍속 : wind - speed\n",
    "print(\"풍속은 \",data[\"wind\"][\"speed\"],\"입니다.\")"
   ]
  },
  {
   "cell_type": "code",
   "execution_count": 8,
   "metadata": {},
   "outputs": [
    {
     "name": "stdout",
     "output_type": "stream",
     "text": [
      "Kŏje 의 날씨입니다.\n",
      "날씨는  clear sky 입니다.\n",
      "현재 온도는  299.75 입니다.\n",
      "하지만 체감 온도는  299.75 입니다.\n",
      "최저 기온은  299.75 입니다.\n",
      "최고 기온은  299.75 입니다.\n",
      "습도는  66 입니다.\n",
      "기압은  1010 입니다.\n",
      "풍향은  76 입니다.\n",
      "풍속은  7.99 입니다.\n"
     ]
    }
   ],
   "source": []
  },
  {
   "cell_type": "code",
   "execution_count": null,
   "metadata": {},
   "outputs": [],
   "source": []
  }
 ],
 "metadata": {
  "kernelspec": {
   "display_name": "Python 3",
   "language": "python",
   "name": "python3"
  },
  "language_info": {
   "codemirror_mode": {
    "name": "ipython",
    "version": 3
   },
   "file_extension": ".py",
   "mimetype": "text/x-python",
   "name": "python",
   "nbconvert_exporter": "python",
   "pygments_lexer": "ipython3",
   "version": "3.12.4"
  }
 },
 "nbformat": 4,
 "nbformat_minor": 2
}
