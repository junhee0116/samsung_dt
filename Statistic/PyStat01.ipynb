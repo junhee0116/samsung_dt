{
 "cells": [
  {
   "cell_type": "code",
   "execution_count": 1,
   "metadata": {
    "colab": {
     "base_uri": "https://localhost:8080/"
    },
    "executionInfo": {
     "elapsed": 27251,
     "status": "ok",
     "timestamp": 1684800753361,
     "user": {
      "displayName": "Sangmin Han",
      "userId": "01725799081763038335"
     },
     "user_tz": -540
    },
    "id": "eezhiEhVYdkI",
    "outputId": "2d957d9b-bf3c-47f7-a4c8-21362a4da52f"
   },
   "outputs": [
    {
     "name": "stdout",
     "output_type": "stream",
     "text": [
      "Mounted at /content/drive\n"
     ]
    }
   ],
   "source": [
    "# 구글드라이브 마운트\n",
    "# from google.colab import drive\n",
    "# drive.mount('/content/drive')\n",
    "\n",
    "# 작업 디렉토리 설정\n",
    "# import os\n",
    "# os.chdir('/content/drive/MyDrive/PyStat')"
   ]
  },
  {
   "cell_type": "code",
   "execution_count": 1,
   "metadata": {
    "executionInfo": {
     "elapsed": 28,
     "status": "ok",
     "timestamp": 1684800753365,
     "user": {
      "displayName": "Sangmin Han",
      "userId": "01725799081763038335"
     },
     "user_tz": -540
    },
    "id": "9KSRBIA0H9zo"
   },
   "outputs": [],
   "source": [
    "# 객체 내용/타입 출력\n",
    "def printobj(*a):\n",
    "    for x in a:\n",
    "        display(x)\n",
    "        print('\\n', type(x), '\\n')"
   ]
  },
  {
   "cell_type": "markdown",
   "metadata": {
    "id": "OIdkUkrLIDmq"
   },
   "source": [
    "# 개요"
   ]
  },
  {
   "cell_type": "markdown",
   "metadata": {
    "id": "IFQIMhOzVMCQ"
   },
   "source": [
    "## CHAP 1. 데이터"
   ]
  },
  {
   "cell_type": "markdown",
   "metadata": {
    "id": "REZKgPqmBGKh"
   },
   "source": [
    "- 통계분석"
   ]
  },
  {
   "cell_type": "markdown",
   "metadata": {
    "id": "p1XIqvoC_Kfx"
   },
   "source": [
    "- '데이터'"
   ]
  },
  {
   "cell_type": "markdown",
   "metadata": {
    "id": "IMi60XjZ_Wst"
   },
   "source": [
    "- 데이터 분류"
   ]
  },
  {
   "cell_type": "markdown",
   "metadata": {
    "id": "mN4PirskEcS_"
   },
   "source": [
    "- ch1_sport_test.csv"
   ]
  },
  {
   "cell_type": "markdown",
   "metadata": {
    "id": "p5M7XVkNAgye"
   },
   "source": [
    "- pandas"
   ]
  },
  {
   "cell_type": "code",
   "execution_count": 2,
   "metadata": {
    "executionInfo": {
     "elapsed": 1187,
     "status": "ok",
     "timestamp": 1684800754532,
     "user": {
      "displayName": "Sangmin Han",
      "userId": "01725799081763038335"
     },
     "user_tz": -540
    },
    "id": "mlMBjgQpWLGv"
   },
   "outputs": [],
   "source": [
    "# pandas를 pd라는 이름으로 임포트\n",
    "import pandas as pd"
   ]
  },
  {
   "cell_type": "markdown",
   "metadata": {
    "id": "Dtry7uXAXkJv"
   },
   "source": [
    "- read_csv()"
   ]
  },
  {
   "cell_type": "markdown",
   "metadata": {
    "id": "Wk1a08EjB5n2"
   },
   "source": [
    "- DataFrame으로"
   ]
  },
  {
   "cell_type": "code",
   "execution_count": 3,
   "metadata": {
    "colab": {
     "base_uri": "https://localhost:8080/",
     "height": 446
    },
    "executionInfo": {
     "elapsed": 122,
     "status": "ok",
     "timestamp": 1684800754538,
     "user": {
      "displayName": "Sangmin Han",
      "userId": "01725799081763038335"
     },
     "user_tz": -540
    },
    "id": "YDJG1sCyXfVF",
    "outputId": "92fede68-0a22-4504-c158-b6cd74bed3ed"
   },
   "outputs": [
    {
     "data": {
      "text/html": [
       "<div>\n",
       "<style scoped>\n",
       "    .dataframe tbody tr th:only-of-type {\n",
       "        vertical-align: middle;\n",
       "    }\n",
       "\n",
       "    .dataframe tbody tr th {\n",
       "        vertical-align: top;\n",
       "    }\n",
       "\n",
       "    .dataframe thead th {\n",
       "        text-align: right;\n",
       "    }\n",
       "</style>\n",
       "<table border=\"1\" class=\"dataframe\">\n",
       "  <thead>\n",
       "    <tr style=\"text-align: right;\">\n",
       "      <th></th>\n",
       "      <th>학년</th>\n",
       "      <th>이름</th>\n",
       "      <th>체온</th>\n",
       "      <th>악력</th>\n",
       "      <th>윗몸일으키기</th>\n",
       "      <th>점수</th>\n",
       "      <th>순위</th>\n",
       "    </tr>\n",
       "    <tr>\n",
       "      <th>학생번호</th>\n",
       "      <th></th>\n",
       "      <th></th>\n",
       "      <th></th>\n",
       "      <th></th>\n",
       "      <th></th>\n",
       "      <th></th>\n",
       "      <th></th>\n",
       "    </tr>\n",
       "  </thead>\n",
       "  <tbody>\n",
       "    <tr>\n",
       "      <th>1</th>\n",
       "      <td>1</td>\n",
       "      <td>신민준</td>\n",
       "      <td>36.3</td>\n",
       "      <td>40.2</td>\n",
       "      <td>34</td>\n",
       "      <td>15</td>\n",
       "      <td>4</td>\n",
       "    </tr>\n",
       "    <tr>\n",
       "      <th>2</th>\n",
       "      <td>1</td>\n",
       "      <td>박건호</td>\n",
       "      <td>36.9</td>\n",
       "      <td>34.2</td>\n",
       "      <td>14</td>\n",
       "      <td>7</td>\n",
       "      <td>10</td>\n",
       "    </tr>\n",
       "    <tr>\n",
       "      <th>3</th>\n",
       "      <td>1</td>\n",
       "      <td>이동훈</td>\n",
       "      <td>37.1</td>\n",
       "      <td>28.8</td>\n",
       "      <td>27</td>\n",
       "      <td>11</td>\n",
       "      <td>7</td>\n",
       "    </tr>\n",
       "    <tr>\n",
       "      <th>4</th>\n",
       "      <td>2</td>\n",
       "      <td>강동윤</td>\n",
       "      <td>36.0</td>\n",
       "      <td>39.0</td>\n",
       "      <td>27</td>\n",
       "      <td>14</td>\n",
       "      <td>5</td>\n",
       "    </tr>\n",
       "    <tr>\n",
       "      <th>5</th>\n",
       "      <td>2</td>\n",
       "      <td>박정환</td>\n",
       "      <td>37.5</td>\n",
       "      <td>50.9</td>\n",
       "      <td>32</td>\n",
       "      <td>17</td>\n",
       "      <td>2</td>\n",
       "    </tr>\n",
       "    <tr>\n",
       "      <th>6</th>\n",
       "      <td>2</td>\n",
       "      <td>김지석</td>\n",
       "      <td>36.4</td>\n",
       "      <td>36.5</td>\n",
       "      <td>20</td>\n",
       "      <td>9</td>\n",
       "      <td>9</td>\n",
       "    </tr>\n",
       "    <tr>\n",
       "      <th>7</th>\n",
       "      <td>3</td>\n",
       "      <td>김명훈</td>\n",
       "      <td>36.5</td>\n",
       "      <td>36.6</td>\n",
       "      <td>31</td>\n",
       "      <td>13</td>\n",
       "      <td>6</td>\n",
       "    </tr>\n",
       "    <tr>\n",
       "      <th>8</th>\n",
       "      <td>3</td>\n",
       "      <td>신진서</td>\n",
       "      <td>37.3</td>\n",
       "      <td>49.2</td>\n",
       "      <td>37</td>\n",
       "      <td>18</td>\n",
       "      <td>1</td>\n",
       "    </tr>\n",
       "    <tr>\n",
       "      <th>9</th>\n",
       "      <td>3</td>\n",
       "      <td>원성진</td>\n",
       "      <td>36.1</td>\n",
       "      <td>26.0</td>\n",
       "      <td>28</td>\n",
       "      <td>10</td>\n",
       "      <td>8</td>\n",
       "    </tr>\n",
       "    <tr>\n",
       "      <th>10</th>\n",
       "      <td>3</td>\n",
       "      <td>변상일</td>\n",
       "      <td>36.8</td>\n",
       "      <td>47.4</td>\n",
       "      <td>32</td>\n",
       "      <td>16</td>\n",
       "      <td>3</td>\n",
       "    </tr>\n",
       "  </tbody>\n",
       "</table>\n",
       "</div>"
      ],
      "text/plain": [
       "      학년   이름    체온    악력  윗몸일으키기  점수  순위\n",
       "학생번호                                     \n",
       "1      1  신민준  36.3  40.2      34  15   4\n",
       "2      1  박건호  36.9  34.2      14   7  10\n",
       "3      1  이동훈  37.1  28.8      27  11   7\n",
       "4      2  강동윤  36.0  39.0      27  14   5\n",
       "5      2  박정환  37.5  50.9      32  17   2\n",
       "6      2  김지석  36.4  36.5      20   9   9\n",
       "7      3  김명훈  36.5  36.6      31  13   6\n",
       "8      3  신진서  37.3  49.2      37  18   1\n",
       "9      3  원성진  36.1  26.0      28  10   8\n",
       "10     3  변상일  36.8  47.4      32  16   3"
      ]
     },
     "metadata": {},
     "output_type": "display_data"
    },
    {
     "name": "stdout",
     "output_type": "stream",
     "text": [
      "\n",
      " <class 'pandas.core.frame.DataFrame'> \n",
      "\n"
     ]
    }
   ],
   "source": [
    "# 작업 디렉토리 아래 data 폴더에 있는 csv 파일을 읽어 들여 DataFrame 자료구조로 저장한다.\n",
    "df = pd.read_csv('data/ch1_sport_test.csv', index_col = '학생번호')\n",
    "printobj(df)  # df의 내용과 타입 출력"
   ]
  },
  {
   "cell_type": "markdown",
   "metadata": {
    "id": "Z_IMTQrUYX9V"
   },
   "source": [
    "- 체력 테스트 결과"
   ]
  },
  {
   "cell_type": "markdown",
   "metadata": {
    "id": "OsbnbdOJZW1f"
   },
   "source": [
    "- '체온' 열"
   ]
  },
  {
   "cell_type": "code",
   "execution_count": 4,
   "metadata": {
    "colab": {
     "base_uri": "https://localhost:8080/",
     "height": 277
    },
    "executionInfo": {
     "elapsed": 116,
     "status": "ok",
     "timestamp": 1684800754543,
     "user": {
      "displayName": "Sangmin Han",
      "userId": "01725799081763038335"
     },
     "user_tz": -540
    },
    "id": "XIqFXV26bnuK",
    "outputId": "b1fc49d9-1bb9-4b1f-fb01-5c5f1046c415"
   },
   "outputs": [
    {
     "data": {
      "text/plain": [
       "학생번호\n",
       "1     36.3\n",
       "2     36.9\n",
       "3     37.1\n",
       "4     36.0\n",
       "5     37.5\n",
       "6     36.4\n",
       "7     36.5\n",
       "8     37.3\n",
       "9     36.1\n",
       "10    36.8\n",
       "Name: 체온, dtype: float64"
      ]
     },
     "metadata": {},
     "output_type": "display_data"
    },
    {
     "name": "stdout",
     "output_type": "stream",
     "text": [
      "\n",
      " <class 'pandas.core.series.Series'> \n",
      "\n"
     ]
    }
   ],
   "source": [
    "# DataFrame 인덱싱으로 하나의 열을 추출하면 Series라는 자료구조로 저장된다.\n",
    "sr = df['체온']\n",
    "printobj(sr)  # sr의 내용과 타입 출력"
   ]
  },
  {
   "cell_type": "code",
   "execution_count": 5,
   "metadata": {},
   "outputs": [
    {
     "data": {
      "text/plain": [
       "array([36.3, 36.9, 37.1, 36. , 37.5, 36.4, 36.5, 37.3, 36.1, 36.8])"
      ]
     },
     "execution_count": 5,
     "metadata": {},
     "output_type": "execute_result"
    }
   ],
   "source": [
    "# sr.to_numpy()와 동일\n",
    "sr.values"
   ]
  },
  {
   "cell_type": "markdown",
   "metadata": {
    "id": "VmdIIEVWZgyD"
   },
   "source": [
    "- Series"
   ]
  },
  {
   "cell_type": "markdown",
   "metadata": {
    "id": "WzerhYGD62tA"
   },
   "source": [
    "### 1-1. 데이터의 크기"
   ]
  },
  {
   "cell_type": "markdown",
   "metadata": {
    "id": "GL9Yo_O60u0S"
   },
   "source": [
    "- 제일 먼저 확인"
   ]
  },
  {
   "cell_type": "code",
   "execution_count": 6,
   "metadata": {
    "colab": {
     "base_uri": "https://localhost:8080/"
    },
    "executionInfo": {
     "elapsed": 109,
     "status": "ok",
     "timestamp": 1684800754546,
     "user": {
      "displayName": "Sangmin Han",
      "userId": "01725799081763038335"
     },
     "user_tz": -540
    },
    "id": "lQ90Em0ay82E",
    "outputId": "44eb0cbf-7602-492c-b06d-83e08243066f"
   },
   "outputs": [
    {
     "data": {
      "text/plain": [
       "(10, 7)"
      ]
     },
     "execution_count": 6,
     "metadata": {},
     "output_type": "execute_result"
    }
   ],
   "source": [
    "# 데이터 전체의 크기를 확인할 수 있다.\n",
    "df.shape"
   ]
  },
  {
   "cell_type": "markdown",
   "metadata": {
    "id": "ObJLKAQBH3_H"
   },
   "source": [
    "- 숫자 2개"
   ]
  },
  {
   "cell_type": "markdown",
   "metadata": {
    "id": "IylCh-L9IES9"
   },
   "source": [
    "- 변수"
   ]
  },
  {
   "cell_type": "markdown",
   "metadata": {
    "id": "UyTbaloeDvIl"
   },
   "source": [
    "- 학생번호"
   ]
  },
  {
   "cell_type": "markdown",
   "metadata": {
    "id": "zCDnP3gS7Kpu"
   },
   "source": [
    "DataFrame의 shape 정리\n",
    "\n",
    "< DataFrame.shape >\n",
    "- (m , n)\n",
    "- 테이블(행렬)형 데이터의 행(row) 크기가 m, 열(column) 크기가 n\n",
    "- 데이터프레임 내의 **관측(observation) 수가 m**, **변수(variable) 개수가 n**"
   ]
  },
  {
   "cell_type": "markdown",
   "metadata": {
    "id": "uLrbzDGSAOH5"
   },
   "source": [
    "<details>\n",
    "<summary>참고</summary>\n",
    "\n",
    "테이블(행렬)형 데이터는 엄밀히 말해 2차원이 아니다.\n",
    "- (m, n)은 주어진 두 축(axis) 방향으로\n",
    "  - 배열(array)의 차원(dimension)이 각각 m 차원, n 차원 임을 의미한다.\n",
    "- 배열의 차원의 수 또는 축의 수(number of array dimensions / axes)가\n",
    "  - '2'라고 해야 올바른 표현이다.\n",
    "- 즉, 테이블형 데이터는 2차 텐서(tensor of second order) 이다.\n",
    "- Pandas/NumPy 객체의 ndim 속성으로 확인 가능 : df.ndim == 2\n",
    "</details>"
   ]
  },
  {
   "cell_type": "markdown",
   "metadata": {
    "id": "xADCh5gzItbx"
   },
   "source": [
    "- 1변수"
   ]
  },
  {
   "cell_type": "markdown",
   "metadata": {
    "id": "1l4cBg-XJacN"
   },
   "source": [
    "- 체온 shape"
   ]
  },
  {
   "cell_type": "code",
   "execution_count": 7,
   "metadata": {
    "colab": {
     "base_uri": "https://localhost:8080/"
    },
    "executionInfo": {
     "elapsed": 99,
     "status": "ok",
     "timestamp": 1684800754549,
     "user": {
      "displayName": "Sangmin Han",
      "userId": "01725799081763038335"
     },
     "user_tz": -540
    },
    "id": "riaUh-mKwV4c",
    "outputId": "f50684f4-41f5-47eb-ec7e-a24684889125"
   },
   "outputs": [
    {
     "data": {
      "text/plain": [
       "(10,)"
      ]
     },
     "execution_count": 7,
     "metadata": {},
     "output_type": "execute_result"
    }
   ],
   "source": [
    "sr.shape"
   ]
  },
  {
   "cell_type": "code",
   "execution_count": 8,
   "metadata": {},
   "outputs": [
    {
     "data": {
      "text/plain": [
       "int"
      ]
     },
     "execution_count": 8,
     "metadata": {},
     "output_type": "execute_result"
    }
   ],
   "source": [
    "type( (10) )"
   ]
  },
  {
   "cell_type": "code",
   "execution_count": 9,
   "metadata": {},
   "outputs": [
    {
     "data": {
      "text/plain": [
       "tuple"
      ]
     },
     "execution_count": 9,
     "metadata": {},
     "output_type": "execute_result"
    }
   ],
   "source": [
    "type( (10, ) )"
   ]
  },
  {
   "cell_type": "markdown",
   "metadata": {
    "id": "3Me8STPsw47l"
   },
   "source": [
    "Series의 shape 정리\n",
    "\n",
    "< Series.shape >\n",
    "- (m,)\n",
    "- 배열(벡터)형 데이터의 크기가 m\n",
    "- **변수 하나**에 **관측 수가 m**"
   ]
  },
  {
   "cell_type": "markdown",
   "metadata": {
    "id": "f32cv3z8devB"
   },
   "source": [
    "### 1-2. 데이터의 종류"
   ]
  },
  {
   "cell_type": "markdown",
   "metadata": {
    "id": "S_F0dB_ILGiz"
   },
   "source": [
    "- 다양한 분류"
   ]
  },
  {
   "cell_type": "markdown",
   "metadata": {
    "id": "-TwfxRh5LNO-"
   },
   "source": [
    "#### 1) 질적 변수와 양적 변수"
   ]
  },
  {
   "cell_type": "markdown",
   "metadata": {
    "id": "a1kvIVXR-dsN"
   },
   "source": [
    "- 크게 두 가지"
   ]
  },
  {
   "cell_type": "markdown",
   "metadata": {
    "id": "MfpMkcbtBQZI"
   },
   "source": [
    "**질적 변수**(qualitative variable)\n",
    "- 선택 : 설문조사 만족도\n",
    "\n",
    "> 1. 매우 좋음\n",
    "> 2. 좋음\n",
    "> 3. 보통\n",
    "> 4. 나쁨\n",
    "> 5. 매우 나쁨"
   ]
  },
  {
   "cell_type": "markdown",
   "metadata": {
    "id": "n-0F2OwLBrpW"
   },
   "source": [
    "- 구별 : 혈액형 조사\n",
    "\n",
    "> - A 형\n",
    "> - B 형\n",
    "> - O 형\n",
    "> - AB 형"
   ]
  },
  {
   "cell_type": "markdown",
   "metadata": {
    "id": "o_WEUadlCVyL"
   },
   "source": [
    "- **범주형 변수**(categorical variable)"
   ]
  },
  {
   "cell_type": "markdown",
   "metadata": {
    "id": "LBUMZJjIA55v"
   },
   "source": [
    "- **2진변수**(binary variable)"
   ]
  },
  {
   "cell_type": "markdown",
   "metadata": {
    "id": "_XlVf9GJCppG"
   },
   "source": [
    "**양적 변수**(quantitative variable)"
   ]
  },
  {
   "cell_type": "markdown",
   "metadata": {
    "id": "iy6fl8csQdjZ"
   },
   "source": [
    "- **수치형 변수**(numerical variable)"
   ]
  },
  {
   "cell_type": "markdown",
   "metadata": {
    "id": "jHWPqM7RCwa0"
   },
   "source": [
    "- 주의할 점"
   ]
  },
  {
   "cell_type": "markdown",
   "metadata": {
    "id": "iobm0-cNDQDb"
   },
   "source": [
    "#### 2) 척도 수준"
   ]
  },
  {
   "cell_type": "markdown",
   "metadata": {
    "id": "w15eF5DafSR7"
   },
   "source": [
    "- 측정 척도(measurement scale)/수준(level of measurement)"
   ]
  },
  {
   "cell_type": "markdown",
   "metadata": {
    "id": "Obc3z8TxDQDh"
   },
   "source": [
    "- 질적 변수\n",
    "  - **명목 척도**(norminal scale)\n",
    "  - **순서 척도**(ordinal scale)"
   ]
  },
  {
   "cell_type": "markdown",
   "metadata": {
    "id": "RNme7YAdFUbK"
   },
   "source": [
    "- 양적 변수\n",
    "  - **간격 척도**(interval scale)\n",
    "  - **비율 척도**(ratio scale)"
   ]
  },
  {
   "cell_type": "markdown",
   "metadata": {
    "id": "gcns0oywFWj1"
   },
   "source": [
    "- **척도 수준**(level of measurement scale)"
   ]
  },
  {
   "cell_type": "markdown",
   "metadata": {
    "id": "WwyDLuKLFT_J"
   },
   "source": [
    "##### <u>명목 척도</u>"
   ]
  },
  {
   "cell_type": "markdown",
   "metadata": {
    "id": "zBTyxrYQFYAt"
   },
   "source": [
    "- 단순한 분류"
   ]
  },
  {
   "cell_type": "markdown",
   "metadata": {
    "id": "8UN950ZAIJ3Z"
   },
   "source": [
    "- 구별 : 동일성 여부"
   ]
  },
  {
   "cell_type": "markdown",
   "metadata": {
    "id": "UYSARo7_ILyn"
   },
   "source": [
    "- 학생번호 4와 8"
   ]
  },
  {
   "cell_type": "markdown",
   "metadata": {
    "id": "aEb06tg-GA-e"
   },
   "source": [
    "##### <u>순서 척도</u>"
   ]
  },
  {
   "cell_type": "markdown",
   "metadata": {
    "id": "ZyIpig0hGA-j"
   },
   "source": [
    "- 순서/대소 관계"
   ]
  },
  {
   "cell_type": "markdown",
   "metadata": {
    "id": "TaeNvR0VISdJ"
   },
   "source": [
    "- 성적 순위\n",
    "  - 차이/비율 무의미"
   ]
  },
  {
   "cell_type": "markdown",
   "metadata": {
    "id": "ef83BYT6HPtT"
   },
   "source": [
    "##### <u>간격 척도</u>"
   ]
  },
  {
   "cell_type": "markdown",
   "metadata": {
    "id": "35RT_ThlHPtY"
   },
   "source": [
    "- 차이"
   ]
  },
  {
   "cell_type": "markdown",
   "metadata": {
    "id": "kQgiLvIqImkG"
   },
   "source": [
    "- 온도\n",
    "  - 비율 무의미"
   ]
  },
  {
   "cell_type": "markdown",
   "metadata": {
    "id": "6Zmtz-JbIOXx"
   },
   "source": [
    "##### <u>비율 척도</u>"
   ]
  },
  {
   "cell_type": "markdown",
   "metadata": {
    "id": "HO-g-h3_IOX2"
   },
   "source": [
    "- 대소, 차이, 비"
   ]
  },
  {
   "cell_type": "markdown",
   "metadata": {
    "id": "bQP55Lm0JNjl"
   },
   "source": [
    "- 길이"
   ]
  },
  {
   "cell_type": "markdown",
   "metadata": {
    "id": "13HXBHiaMFPk"
   },
   "source": [
    "- 간격 척도 vs 비율 척도\n",
    "  - 절대 영(absolute zero)"
   ]
  },
  {
   "cell_type": "markdown",
   "metadata": {
    "id": "3BBkPlWAJSKD"
   },
   "source": [
    "즉,\n",
    "- '0'의 의미가 '없음'을 나타내는지 여부를 판단하면 된다.\n",
    "- 길이에서 0㎝는 길이가 없음을 나타내지만( $∴$ 비율 척도),\n",
    "- 온도에서 0℃는 온도가 없다는 뜻이 아니다( $∴$ 간격 척도)."
   ]
  },
  {
   "cell_type": "markdown",
   "metadata": {
    "id": "YPS4EhFTPlcV"
   },
   "source": [
    "- 정리\n",
    "\n",
    "<br>\n",
    "\n",
    "[표 1-1] 척도 수준\n",
    "\n",
    "![image.png](data:image/png;base64,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)"
   ]
  },
  {
   "cell_type": "markdown",
   "metadata": {
    "id": "hJTAqsnYRKGv"
   },
   "source": [
    "#### 3) 이산형 변수와 연속형 변수"
   ]
  },
  {
   "cell_type": "markdown",
   "metadata": {
    "id": "71lwYrer4PM5"
   },
   "source": [
    "- 다른 두 가지"
   ]
  },
  {
   "cell_type": "markdown",
   "metadata": {
    "id": "VdBMTRP44i77"
   },
   "source": [
    "- **이산형 변수**(discrete variable)"
   ]
  },
  {
   "cell_type": "markdown",
   "metadata": {
    "id": "-5W9iaBKRj_C"
   },
   "source": [
    "- 예를 들면"
   ]
  },
  {
   "cell_type": "markdown",
   "metadata": {
    "id": "O6dV9Kk-aaTk"
   },
   "source": [
    "- **연속형 변수**(continuous variable)"
   ]
  },
  {
   "cell_type": "markdown",
   "metadata": {
    "id": "umIHMJKD40pn"
   },
   "source": [
    "- 길이, 무게 등"
   ]
  },
  {
   "cell_type": "markdown",
   "metadata": {
    "id": "c4FW4nMP5HwR"
   },
   "source": [
    "- 측정 정밀도 한계"
   ]
  },
  {
   "cell_type": "markdown",
   "metadata": {
    "id": "YUarwsCTauAJ"
   },
   "source": [
    "- 예를 들어"
   ]
  },
  {
   "cell_type": "markdown",
   "metadata": {
    "id": "TUZZ_GeCajUi"
   },
   "source": [
    "#### 4) 요약"
   ]
  },
  {
   "cell_type": "markdown",
   "metadata": {
    "id": "g-GvXOWebL_3"
   },
   "source": [
    "- 끝으로 두 가지"
   ]
  },
  {
   "cell_type": "markdown",
   "metadata": {
    "id": "IUX-CiHh5rUx"
   },
   "source": [
    "> 비정형 데이터(unstructured data)\n",
    "> - 변수화 불가능 → 통계분석/데이터애널리틱스(data analytics) 대상 아님\n",
    ">\n",
    "> 정형 데이터(structured data)\n",
    "> - 변수화 가능 → 통계분석/데이터애널리틱스 대상"
   ]
  },
  {
   "cell_type": "markdown",
   "metadata": {
    "id": "7EcVKL1qcrGV"
   },
   "source": [
    "- 정형 데이터 요약"
   ]
  },
  {
   "cell_type": "markdown",
   "metadata": {
    "id": "z2T4Yg-J6ncM"
   },
   "source": [
    "##### 정형 데이터(변수)의 분류"
   ]
  },
  {
   "cell_type": "markdown",
   "metadata": {
    "id": "87hrfTr16eFe"
   },
   "source": [
    "- 변수 속성에 따른 분류\n",
    "  - 질적/범주형(qualitative/categorical) : 설문조사 만족도, 혈액형, 성별, 흡연 여부\n",
    "  - 양적/수치형(quantitative/numerical) : 시험 점수, 키, 몸무게, 온도"
   ]
  },
  {
   "cell_type": "markdown",
   "metadata": {
    "id": "tQVjax2KFs97"
   },
   "source": [
    "- 값의 속성에 따른 분류\n",
    "  - 이산형(discrete) : 주사위의 눈, 학생 수\n",
    "  - 연속형(continuous) : 길이, 질량, 시간"
   ]
  },
  {
   "cell_type": "markdown",
   "metadata": {
    "id": "X94AMumjEoF3"
   },
   "source": [
    "- 측정 수준(level of measurement)에 따른 분류\n",
    "  - 측정하는 네 가지 척도(scale)로 분류\n",
    "    - 명목 척도(nominal scale)\n",
    "    - 순서 척도(ordinal scale)\n",
    "    - 간격 척도(interval scale)\n",
    "    - 비율 척도(ratio scale)\n",
    "  - 명목 ⊃ 순서 ⊃ 간격 ⊃ 비율\n",
    "    - 명목 척도 := **구분** 개념\n",
    "    - 순서 척도 := 명목 척도 + **순서** 개념\n",
    "    - 간격 척도 := 순서 척도 + **간격** 개념\n",
    "    - 비율 척도 := 간격 척도 + **비율** 개념(**절대 영**)\n",
    "\n",
    "|Offers:|Nominal|Ordinal|Interval|Ratio|\n",
    "|:------|:-----:|:-----:|:------:|:---:|\n",
    "|The sequence of variables is established|-|○|○|○|\n",
    "|Mode|○|○|○|○|\n",
    "|Median|-|○|○|○|\n",
    "|Mean|-|-|○|○|\n",
    "|Difference between variables can be evaluated|-|-|○|○|\n",
    "|Addition and subtraction of variables|-|-|○|○|\n",
    "|Multiplication and division of variables|-|-|-|○|\n",
    "|Absolute zero|-|-|-|○|\n",
    "\n",
    "<br>\n",
    "\n",
    "  - 이에 따라, 질적/범주형, 양적/수치형 정형 데이터(변수) 분류\n",
    "    - 질적/범주형\n",
    "      - 명목 척도(nominal scale)로 측정되는 것 : 혈액형, 성별, 흡연 여부\n",
    "      - 순서 척도(ordinal scale)로 측정되는 것 : 설문조사 만족도\n",
    "    - 양적/수치형\n",
    "      - 간격 척도(interval scale)로 측정되는 것 : 시험 점수, 온도\n",
    "      - 비율 척도(ratio scale)로 측정되는 것 : 키, 몸무게"
   ]
  },
  {
   "cell_type": "markdown",
   "metadata": {
    "id": "FyYF-m6mcL3M"
   },
   "source": [
    "### 1-3. 체력 테스트 예제"
   ]
  },
  {
   "cell_type": "markdown",
   "metadata": {
    "id": "0PrOdY4Wb9vN"
   },
   "source": [
    "- 분류 방법 적용"
   ]
  },
  {
   "cell_type": "code",
   "execution_count": 21,
   "metadata": {
    "colab": {
     "base_uri": "https://localhost:8080/",
     "height": 394
    },
    "executionInfo": {
     "elapsed": 90,
     "status": "ok",
     "timestamp": 1684800754553,
     "user": {
      "displayName": "Sangmin Han",
      "userId": "01725799081763038335"
     },
     "user_tz": -540
    },
    "id": "zbh7PjIeFQ7G",
    "outputId": "dedaf7b7-b48f-4e23-ddd3-62d67191287c"
   },
   "outputs": [
    {
     "data": {
      "text/html": [
       "<div>\n",
       "<style scoped>\n",
       "    .dataframe tbody tr th:only-of-type {\n",
       "        vertical-align: middle;\n",
       "    }\n",
       "\n",
       "    .dataframe tbody tr th {\n",
       "        vertical-align: top;\n",
       "    }\n",
       "\n",
       "    .dataframe thead th {\n",
       "        text-align: right;\n",
       "    }\n",
       "</style>\n",
       "<table border=\"1\" class=\"dataframe\">\n",
       "  <thead>\n",
       "    <tr style=\"text-align: right;\">\n",
       "      <th></th>\n",
       "      <th>학년</th>\n",
       "      <th>이름</th>\n",
       "      <th>체온</th>\n",
       "      <th>악력</th>\n",
       "      <th>윗몸일으키기</th>\n",
       "      <th>점수</th>\n",
       "      <th>순위</th>\n",
       "    </tr>\n",
       "    <tr>\n",
       "      <th>학생번호</th>\n",
       "      <th></th>\n",
       "      <th></th>\n",
       "      <th></th>\n",
       "      <th></th>\n",
       "      <th></th>\n",
       "      <th></th>\n",
       "      <th></th>\n",
       "    </tr>\n",
       "  </thead>\n",
       "  <tbody>\n",
       "    <tr>\n",
       "      <th>1</th>\n",
       "      <td>1</td>\n",
       "      <td>신민준</td>\n",
       "      <td>36.3</td>\n",
       "      <td>40.2</td>\n",
       "      <td>34</td>\n",
       "      <td>15</td>\n",
       "      <td>4</td>\n",
       "    </tr>\n",
       "    <tr>\n",
       "      <th>2</th>\n",
       "      <td>1</td>\n",
       "      <td>박건호</td>\n",
       "      <td>36.9</td>\n",
       "      <td>34.2</td>\n",
       "      <td>14</td>\n",
       "      <td>7</td>\n",
       "      <td>10</td>\n",
       "    </tr>\n",
       "    <tr>\n",
       "      <th>3</th>\n",
       "      <td>1</td>\n",
       "      <td>이동훈</td>\n",
       "      <td>37.1</td>\n",
       "      <td>28.8</td>\n",
       "      <td>27</td>\n",
       "      <td>11</td>\n",
       "      <td>7</td>\n",
       "    </tr>\n",
       "    <tr>\n",
       "      <th>4</th>\n",
       "      <td>2</td>\n",
       "      <td>강동윤</td>\n",
       "      <td>36.0</td>\n",
       "      <td>39.0</td>\n",
       "      <td>27</td>\n",
       "      <td>14</td>\n",
       "      <td>5</td>\n",
       "    </tr>\n",
       "    <tr>\n",
       "      <th>5</th>\n",
       "      <td>2</td>\n",
       "      <td>박정환</td>\n",
       "      <td>37.5</td>\n",
       "      <td>50.9</td>\n",
       "      <td>32</td>\n",
       "      <td>17</td>\n",
       "      <td>2</td>\n",
       "    </tr>\n",
       "    <tr>\n",
       "      <th>6</th>\n",
       "      <td>2</td>\n",
       "      <td>김지석</td>\n",
       "      <td>36.4</td>\n",
       "      <td>36.5</td>\n",
       "      <td>20</td>\n",
       "      <td>9</td>\n",
       "      <td>9</td>\n",
       "    </tr>\n",
       "    <tr>\n",
       "      <th>7</th>\n",
       "      <td>3</td>\n",
       "      <td>김명훈</td>\n",
       "      <td>36.5</td>\n",
       "      <td>36.6</td>\n",
       "      <td>31</td>\n",
       "      <td>13</td>\n",
       "      <td>6</td>\n",
       "    </tr>\n",
       "    <tr>\n",
       "      <th>8</th>\n",
       "      <td>3</td>\n",
       "      <td>신진서</td>\n",
       "      <td>37.3</td>\n",
       "      <td>49.2</td>\n",
       "      <td>37</td>\n",
       "      <td>18</td>\n",
       "      <td>1</td>\n",
       "    </tr>\n",
       "    <tr>\n",
       "      <th>9</th>\n",
       "      <td>3</td>\n",
       "      <td>원성진</td>\n",
       "      <td>36.1</td>\n",
       "      <td>26.0</td>\n",
       "      <td>28</td>\n",
       "      <td>10</td>\n",
       "      <td>8</td>\n",
       "    </tr>\n",
       "    <tr>\n",
       "      <th>10</th>\n",
       "      <td>3</td>\n",
       "      <td>변상일</td>\n",
       "      <td>36.8</td>\n",
       "      <td>47.4</td>\n",
       "      <td>32</td>\n",
       "      <td>16</td>\n",
       "      <td>3</td>\n",
       "    </tr>\n",
       "  </tbody>\n",
       "</table>\n",
       "</div>"
      ],
      "text/plain": [
       "      학년   이름    체온    악력  윗몸일으키기  점수  순위\n",
       "학생번호                                     \n",
       "1      1  신민준  36.3  40.2      34  15   4\n",
       "2      1  박건호  36.9  34.2      14   7  10\n",
       "3      1  이동훈  37.1  28.8      27  11   7\n",
       "4      2  강동윤  36.0  39.0      27  14   5\n",
       "5      2  박정환  37.5  50.9      32  17   2\n",
       "6      2  김지석  36.4  36.5      20   9   9\n",
       "7      3  김명훈  36.5  36.6      31  13   6\n",
       "8      3  신진서  37.3  49.2      37  18   1\n",
       "9      3  원성진  36.1  26.0      28  10   8\n",
       "10     3  변상일  36.8  47.4      32  16   3"
      ]
     },
     "execution_count": 21,
     "metadata": {},
     "output_type": "execute_result"
    }
   ],
   "source": [
    "# 주어진 데이터에 대해 검토해 보자.\n",
    "df"
   ]
  },
  {
   "cell_type": "markdown",
   "metadata": {
    "id": "YDlMVPwgcTnh"
   },
   "source": [
    "- 학생번호"
   ]
  },
  {
   "cell_type": "markdown",
   "metadata": {
    "id": "zJDJTuUuckFQ"
   },
   "source": [
    "- 학년"
   ]
  },
  {
   "cell_type": "markdown",
   "metadata": {
    "id": "RE6cctBWfn1f"
   },
   "source": [
    "- 이름"
   ]
  },
  {
   "cell_type": "markdown",
   "metadata": {
    "id": "ZoeKYzBvgIHn"
   },
   "source": [
    "- 체온"
   ]
  },
  {
   "cell_type": "markdown",
   "metadata": {
    "id": "s2WtQFe_c6IH"
   },
   "source": [
    "- 악력"
   ]
  },
  {
   "cell_type": "markdown",
   "metadata": {
    "id": "xKl2Jaredrtm"
   },
   "source": [
    "- 윗몸일으키기"
   ]
  },
  {
   "cell_type": "markdown",
   "metadata": {
    "id": "6d6u57TleESQ"
   },
   "source": [
    "- 점수는\n",
    "  - 간격? 비율?\n",
    "  - 이산형? 연속형?\n",
    "\n",
    "  - 간격"
   ]
  },
  {
   "cell_type": "markdown",
   "metadata": {
    "id": "d2Kq0fVMeg9c"
   },
   "source": [
    "- 순위는"
   ]
  },
  {
   "cell_type": "markdown",
   "metadata": {
    "id": "I0INYiwKSH1_"
   },
   "source": [
    "정리하면 다음과 같다.\n",
    "- 학생번호 : 명목/이산\n",
    "- 학년 : 간격/이산\n",
    "- 이름 : 명목/이산\n",
    "- 체온 : 간격/연속\n",
    "- 악력 : 비율/연속\n",
    "- 윗몸일으키기 : 비율/이산\n",
    "- 점수 : 간격(비율? 0점의 의미?)/이산(연속? 정밀도 문제?)\n",
    "- 순위 : 순서/이산"
   ]
  },
  {
   "cell_type": "markdown",
   "metadata": {
    "id": "WGRIGc4ferpa"
   },
   "source": [
    "- 데이터의 크기와 변수의 분류"
   ]
  },
  {
   "cell_type": "markdown",
   "metadata": {
    "id": "v0Nul6F4Zqfg"
   },
   "source": [
    "### 1-4. 통계의 종류\n",
    "- 기술 통계(descriptive statistics) : 수집한 데이터를 요약, 묘사, 설명하는 통계 기법\n",
    "- 추론 통계(inferential statistics) : 수집한 데이터를 바탕으로 추론, 예측하는 통계 기법"
   ]
  }
 ],
 "metadata": {
  "colab": {
   "authorship_tag": "ABX9TyNa00D9JHTXGKvsGWy37I3S",
   "mount_file_id": "1civv6ZTqAyHQKYl3kjjGvNAEQyY6lIiA",
   "provenance": [],
   "toc_visible": true
  },
  "kernelspec": {
   "display_name": "Python 3",
   "name": "python3"
  },
  "language_info": {
   "codemirror_mode": {
    "name": "ipython",
    "version": 3
   },
   "file_extension": ".py",
   "mimetype": "text/x-python",
   "name": "python",
   "nbconvert_exporter": "python",
   "pygments_lexer": "ipython3",
   "version": "3.12.4"
  }
 },
 "nbformat": 4,
 "nbformat_minor": 0
}
