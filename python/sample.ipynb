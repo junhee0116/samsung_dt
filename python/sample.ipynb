{
 "cells": [
  {
   "cell_type": "markdown",
   "metadata": {},
   "source": [
    "##### 문자열 인덱싱과 슬라이싱"
   ]
  },
  {
   "cell_type": "code",
   "execution_count": 102,
   "metadata": {},
   "outputs": [
    {
     "name": "stdout",
     "output_type": "stream",
     "text": [
      "e\n",
      "n\n"
     ]
    }
   ],
   "source": [
    "# 1. 문자열 인덱싱\n",
    "a = \"Life is too short, You need Python\"\n",
    "print(a[3])\n",
    "print(a[-1])"
   ]
  },
  {
   "cell_type": "code",
   "execution_count": 103,
   "metadata": {},
   "outputs": [
    {
     "name": "stdout",
     "output_type": "stream",
     "text": [
      "Life \n",
      "is\n",
      "You need Pytho\n"
     ]
    }
   ],
   "source": [
    "# 2. 문자열 슬라이싱\n",
    "a = \"Life is too short, You need Python\"\n",
    "print(a[0:5])\n",
    "print(a[5:7])\n",
    "print(a[19:-1])"
   ]
  },
  {
   "cell_type": "markdown",
   "metadata": {},
   "source": [
    "##### 문자열 포매팅"
   ]
  },
  {
   "cell_type": "code",
   "execution_count": 104,
   "metadata": {},
   "outputs": [
    {
     "name": "stdout",
     "output_type": "stream",
     "text": [
      "I eat 3 apples\n"
     ]
    }
   ],
   "source": [
    "# 1. 숫자 바로 대입\n",
    "print(\"I eat %d apples\" % 3)"
   ]
  },
  {
   "cell_type": "code",
   "execution_count": 105,
   "metadata": {},
   "outputs": [
    {
     "name": "stdout",
     "output_type": "stream",
     "text": [
      "I eat five apples\n"
     ]
    }
   ],
   "source": [
    "# 2. 문자열 바로 대입\n",
    "print(\"I eat %s apples\" % \"five\")"
   ]
  },
  {
   "cell_type": "code",
   "execution_count": 106,
   "metadata": {},
   "outputs": [
    {
     "name": "stdout",
     "output_type": "stream",
     "text": [
      "I eat 3 apples\n"
     ]
    }
   ],
   "source": [
    "# 3. 숫자 값을 나타내는 변수로 대입\n",
    "number = 3\n",
    "print(\"I eat %d apples\" % number)"
   ]
  },
  {
   "cell_type": "code",
   "execution_count": 107,
   "metadata": {},
   "outputs": [
    {
     "name": "stdout",
     "output_type": "stream",
     "text": [
      "I ate 10 apples. so I was sick for three days\n"
     ]
    }
   ],
   "source": [
    "# 4. 2개 이상의 값 넣기\n",
    "number = 10\n",
    "day = \"three\"\n",
    "print(\"I ate %d apples. so I was sick for %s days\" % (number, day))"
   ]
  },
  {
   "cell_type": "markdown",
   "metadata": {},
   "source": [
    "##### 포맷 코드와 숫자 함께 사용하기"
   ]
  },
  {
   "cell_type": "code",
   "execution_count": 108,
   "metadata": {},
   "outputs": [
    {
     "name": "stdout",
     "output_type": "stream",
     "text": [
      "error is 98%\n"
     ]
    }
   ],
   "source": [
    "# 1. 문자열 포맷 코드\n",
    "print(\"error is %d%%\" % 98)"
   ]
  },
  {
   "cell_type": "code",
   "execution_count": 109,
   "metadata": {},
   "outputs": [
    {
     "name": "stdout",
     "output_type": "stream",
     "text": [
      "        hi\n",
      "hi        jane.\n"
     ]
    }
   ],
   "source": [
    "# 2. 정렬과 공백\n",
    "print(\"%10s\" % \"hi\")\n",
    "print(\"%-10sjane.\" % \"hi\")"
   ]
  },
  {
   "cell_type": "code",
   "execution_count": 110,
   "metadata": {},
   "outputs": [
    {
     "name": "stdout",
     "output_type": "stream",
     "text": [
      "3.4213\n",
      "    3.4213\n",
      "    3.4213\n"
     ]
    }
   ],
   "source": [
    "# 3. 소수점 표현하기\n",
    "print(\"%.4f\" % 3.42134234)\n",
    "print(\"%10.4f\" % 3.42134234)\n",
    "print(\"%10.4f\" % 3.42134234)"
   ]
  },
  {
   "cell_type": "markdown",
   "metadata": {},
   "source": [
    "##### format 함수를 사용한 포매팅"
   ]
  },
  {
   "cell_type": "code",
   "execution_count": 111,
   "metadata": {},
   "outputs": [
    {
     "name": "stdout",
     "output_type": "stream",
     "text": [
      "1. I eat 3 apples\n"
     ]
    }
   ],
   "source": [
    "# 1. 숫자 바로 대입하기\n",
    "print(\"1. I eat {0} apples\".format(3))"
   ]
  },
  {
   "cell_type": "code",
   "execution_count": 112,
   "metadata": {},
   "outputs": [
    {
     "name": "stdout",
     "output_type": "stream",
     "text": [
      "2. I eat five apples\n"
     ]
    }
   ],
   "source": [
    "# 2. 문자열 바로 대입하기\n",
    "print(\"2. I eat {0} apples\".format(\"five\"))"
   ]
  },
  {
   "cell_type": "code",
   "execution_count": 113,
   "metadata": {},
   "outputs": [
    {
     "name": "stdout",
     "output_type": "stream",
     "text": [
      "3. I eat 3 apples\n"
     ]
    }
   ],
   "source": [
    "# 3. 숫자 값을 가진 변수로 대입하기\n",
    "number = 3\n",
    "print(\"3. I eat {0} apples\".format(number))"
   ]
  },
  {
   "cell_type": "code",
   "execution_count": 114,
   "metadata": {},
   "outputs": [
    {
     "name": "stdout",
     "output_type": "stream",
     "text": [
      "4. I ate 10 apples. so I was sick for three days\n"
     ]
    }
   ],
   "source": [
    "# 4. 2개 이상의 값 넣기\n",
    "number = 10\n",
    "day = \"three\"\n",
    "print(\"4. I ate {0} apples. so I was sick for {1} days\".format(number, day))"
   ]
  },
  {
   "cell_type": "code",
   "execution_count": 115,
   "metadata": {},
   "outputs": [
    {
     "name": "stdout",
     "output_type": "stream",
     "text": [
      "5. I ate 10 apples. so I was sick for 3 days.\n"
     ]
    }
   ],
   "source": [
    "# 5. 이름으로 넣기\n",
    "print(\"5. I ate {number} apples. so I was sick for {day} days.\".format(number = 10, day = 3))"
   ]
  },
  {
   "cell_type": "code",
   "execution_count": 116,
   "metadata": {},
   "outputs": [
    {
     "name": "stdout",
     "output_type": "stream",
     "text": [
      "6. I ate 10 apples. so I was sick for 3 days\n"
     ]
    }
   ],
   "source": [
    "# 6. 인덱스와 이름을 혼용해서 넣기\n",
    "print(\"6. I ate {0} apples. so I was sick for {day} days\".format(10, day = 3))"
   ]
  },
  {
   "cell_type": "code",
   "execution_count": 117,
   "metadata": {},
   "outputs": [
    {
     "name": "stdout",
     "output_type": "stream",
     "text": [
      "7. hi        \n"
     ]
    }
   ],
   "source": [
    "# 7. 왼쪽 정렬\n",
    "print(\"7. {0:<10}\".format(\"hi\"))"
   ]
  },
  {
   "cell_type": "code",
   "execution_count": 118,
   "metadata": {},
   "outputs": [
    {
     "name": "stdout",
     "output_type": "stream",
     "text": [
      "8.         hi\n"
     ]
    }
   ],
   "source": [
    "# 8. 오른쪽 정렬\n",
    "print(\"8. {0:>10}\".format(\"hi\"))"
   ]
  },
  {
   "cell_type": "code",
   "execution_count": 119,
   "metadata": {},
   "outputs": [
    {
     "name": "stdout",
     "output_type": "stream",
     "text": [
      "9.     hi    \n"
     ]
    }
   ],
   "source": [
    "# 9. 가운데 정렬\n",
    "print(\"9. {0:^10}\".format(\"hi\"))"
   ]
  },
  {
   "cell_type": "code",
   "execution_count": 120,
   "metadata": {},
   "outputs": [
    {
     "name": "stdout",
     "output_type": "stream",
     "text": [
      "10. ====hi====\n"
     ]
    }
   ],
   "source": [
    "# 10. 공백 채우기\n",
    "print(\"10. {0:=^10}\".format(\"hi\"))"
   ]
  },
  {
   "cell_type": "code",
   "execution_count": 121,
   "metadata": {},
   "outputs": [
    {
     "name": "stdout",
     "output_type": "stream",
     "text": [
      "11. 3.4212\n"
     ]
    }
   ],
   "source": [
    "# 11. 소수점 표현하기\n",
    "y = 3.42124234\n",
    "print(\"11. {0:0.4f}\".format(y))"
   ]
  },
  {
   "cell_type": "code",
   "execution_count": 122,
   "metadata": {},
   "outputs": [
    {
     "name": "stdout",
     "output_type": "stream",
     "text": [
      "12. {and}\n"
     ]
    }
   ],
   "source": [
    "# 12. {또는} 문자 표현하기\n",
    "print(\"12. {{and}}\".format())"
   ]
  },
  {
   "cell_type": "markdown",
   "metadata": {},
   "source": [
    "### f 문자열 포매팅"
   ]
  },
  {
   "cell_type": "code",
   "execution_count": 123,
   "metadata": {},
   "outputs": [
    {
     "name": "stdout",
     "output_type": "stream",
     "text": [
      "1. 나의 이름은 홍길동입니다. 나이는 30입니다.\n"
     ]
    }
   ],
   "source": [
    "# 1)\n",
    "name = \"홍길동\"\n",
    "age = 30\n",
    "print(f\"1. 나의 이름은 {name}입니다. 나이는 {age}입니다.\")"
   ]
  },
  {
   "cell_type": "code",
   "execution_count": 124,
   "metadata": {},
   "outputs": [
    {
     "name": "stdout",
     "output_type": "stream",
     "text": [
      "2. 나는 내년이면 31살이 된다\n"
     ]
    }
   ],
   "source": [
    "# 2)\n",
    "age = 30\n",
    "print(f\"2. 나는 내년이면 {age + 1}살이 된다\")"
   ]
  },
  {
   "cell_type": "code",
   "execution_count": 125,
   "metadata": {},
   "outputs": [
    {
     "name": "stdout",
     "output_type": "stream",
     "text": [
      "3. 나의 이름은 홍길동입니다. 나이는 30입니다.\n"
     ]
    }
   ],
   "source": [
    "# 3)\n",
    "d = {\"name\" : \"홍길동\", \"age\" : 30}\n",
    "print(f\"3. 나의 이름은 {d[\"name\"]}입니다. 나이는 {d[\"age\"]}입니다.\")"
   ]
  },
  {
   "cell_type": "code",
   "execution_count": 126,
   "metadata": {},
   "outputs": [
    {
     "name": "stdout",
     "output_type": "stream",
     "text": [
      "4. hi     \n"
     ]
    }
   ],
   "source": [
    "# 4)\n",
    "print(f'{\"4. hi\":<10}')"
   ]
  },
  {
   "cell_type": "code",
   "execution_count": 127,
   "metadata": {},
   "outputs": [
    {
     "name": "stdout",
     "output_type": "stream",
     "text": [
      "5.        hi\n"
     ]
    }
   ],
   "source": [
    "# 5)\n",
    "print(\"5.\" + f'{\"hi\":>10}')"
   ]
  },
  {
   "cell_type": "code",
   "execution_count": 128,
   "metadata": {},
   "outputs": [
    {
     "name": "stdout",
     "output_type": "stream",
     "text": [
      "6.    hi    \n"
     ]
    }
   ],
   "source": [
    "# 6)\n",
    "print(\"6.\" + f'{\"hi\":^10}')"
   ]
  },
  {
   "cell_type": "code",
   "execution_count": 129,
   "metadata": {},
   "outputs": [
    {
     "name": "stdout",
     "output_type": "stream",
     "text": [
      "7. hi:!<10\n"
     ]
    }
   ],
   "source": [
    "# 7)\n",
    "print(f'{\"7. hi\"}:!<10')"
   ]
  },
  {
   "cell_type": "code",
   "execution_count": 130,
   "metadata": {},
   "outputs": [
    {
     "name": "stdout",
     "output_type": "stream",
     "text": [
      "8.     3.4213\n"
     ]
    }
   ],
   "source": [
    "# 8)\n",
    "y = 3.42134234\n",
    "print(f'8. {y:10.4f}')"
   ]
  },
  {
   "cell_type": "code",
   "execution_count": 131,
   "metadata": {},
   "outputs": [
    {
     "name": "stdout",
     "output_type": "stream",
     "text": [
      "9. {and}\n"
     ]
    }
   ],
   "source": [
    "# 9)\n",
    "print(f\"9. {{and}}\")"
   ]
  },
  {
   "cell_type": "markdown",
   "metadata": {},
   "source": [
    "### 문자열 관련 함수들"
   ]
  },
  {
   "cell_type": "code",
   "execution_count": 132,
   "metadata": {},
   "outputs": [
    {
     "name": "stdout",
     "output_type": "stream",
     "text": [
      "1. 2\n"
     ]
    }
   ],
   "source": [
    "# 1) 문자 개수 세기 - count\n",
    "a = \"hobby\"\n",
    "print(\"1.\", a.count('b'))"
   ]
  },
  {
   "cell_type": "code",
   "execution_count": 133,
   "metadata": {},
   "outputs": [
    {
     "name": "stdout",
     "output_type": "stream",
     "text": [
      "2. -1\n"
     ]
    }
   ],
   "source": [
    "# 2) 위치 알려주기 1 - find\n",
    "a = \"Python is the best choice\"\n",
    "print(\"2.\", a.find(\"k\"))"
   ]
  },
  {
   "cell_type": "code",
   "execution_count": 134,
   "metadata": {},
   "outputs": [
    {
     "name": "stdout",
     "output_type": "stream",
     "text": [
      "3. 8\n"
     ]
    }
   ],
   "source": [
    "# 3) 위치 알려주기 2 - index\n",
    "a = \"Life is too short\"\n",
    "print(\"3.\", a.index(\"t\"))"
   ]
  },
  {
   "cell_type": "code",
   "execution_count": 135,
   "metadata": {},
   "outputs": [
    {
     "name": "stdout",
     "output_type": "stream",
     "text": [
      "4. a,b,c,d\n"
     ]
    }
   ],
   "source": [
    "# 4) 문자열 삽입 - join\n",
    "print(\"4.\", \",\".join(\"abcd\"))"
   ]
  },
  {
   "cell_type": "code",
   "execution_count": 136,
   "metadata": {},
   "outputs": [
    {
     "name": "stdout",
     "output_type": "stream",
     "text": [
      "5. HI\n"
     ]
    }
   ],
   "source": [
    "# 5) 소문자를 대문자로 바꾸기 - upper\n",
    "a = \"hi\"\n",
    "print(\"5.\", a.upper())"
   ]
  },
  {
   "cell_type": "code",
   "execution_count": 137,
   "metadata": {},
   "outputs": [
    {
     "name": "stdout",
     "output_type": "stream",
     "text": [
      "6. hi\n"
     ]
    }
   ],
   "source": [
    "# 6) 대문자를 소문자로 바꾸기 - lower\n",
    "a = \"HI\"\n",
    "print(\"6.\", a.lower())"
   ]
  },
  {
   "cell_type": "code",
   "execution_count": 138,
   "metadata": {},
   "outputs": [
    {
     "name": "stdout",
     "output_type": "stream",
     "text": [
      "7. hi \n"
     ]
    }
   ],
   "source": [
    "# 7) 왼쪽 공백 지우기 - lstrip\n",
    "a = \" hi \"\n",
    "print(\"7.\", a.lstrip())"
   ]
  },
  {
   "cell_type": "code",
   "execution_count": 139,
   "metadata": {},
   "outputs": [
    {
     "name": "stdout",
     "output_type": "stream",
     "text": [
      "8.  hi\n"
     ]
    }
   ],
   "source": [
    "# 8) 오른쪽 공백 지우기 - rstrip\n",
    "a = \" hi \"\n",
    "print(\"8.\", a.rstrip())"
   ]
  },
  {
   "cell_type": "code",
   "execution_count": 140,
   "metadata": {},
   "outputs": [
    {
     "name": "stdout",
     "output_type": "stream",
     "text": [
      "9. hi\n"
     ]
    }
   ],
   "source": [
    "# 9) 양쪽 공백 지우기 - strip\n",
    "a = \" hi \"\n",
    "print(\"9.\", a.strip())"
   ]
  },
  {
   "cell_type": "code",
   "execution_count": 141,
   "metadata": {},
   "outputs": [
    {
     "name": "stdout",
     "output_type": "stream",
     "text": [
      "11. Your leg is too short\n"
     ]
    }
   ],
   "source": [
    "# 11) 문자열 바꾸기 - replace\n",
    "a = \"Life is too short\"\n",
    "print(\"11.\", a.replace(\"Life\", \"Your leg\"))"
   ]
  },
  {
   "cell_type": "code",
   "execution_count": 142,
   "metadata": {},
   "outputs": [
    {
     "name": "stdout",
     "output_type": "stream",
     "text": [
      "12. ['Life', 'is', 'too', 'short']\n"
     ]
    }
   ],
   "source": [
    "# 12) 문자열 나누기 - split\n",
    "a = \"Life is too short\"\n",
    "print(\"12.\", a.split())"
   ]
  },
  {
   "cell_type": "markdown",
   "metadata": {},
   "source": [
    "### List"
   ]
  },
  {
   "cell_type": "code",
   "execution_count": 143,
   "metadata": {},
   "outputs": [
    {
     "name": "stdout",
     "output_type": "stream",
     "text": [
      "1. wonderful\n"
     ]
    }
   ],
   "source": [
    "# 1) 리스트의 인덱싱\n",
    "a = [1, 2, 3, ['a', 'b', ['Life', 'is', 'wonderful']]]\n",
    "print('1.', a[3][2][-1])"
   ]
  },
  {
   "cell_type": "code",
   "execution_count": 144,
   "metadata": {},
   "outputs": [
    {
     "name": "stdout",
     "output_type": "stream",
     "text": [
      "2. ['a', 'b']\n"
     ]
    }
   ],
   "source": [
    "# 2) 리스트의 슬라이싱\n",
    "a = [1, 2, 3, ['a', 'b', 'c'], 4, 5]\n",
    "print('2.', a[3][:2])"
   ]
  },
  {
   "cell_type": "code",
   "execution_count": 145,
   "metadata": {},
   "outputs": [
    {
     "name": "stdout",
     "output_type": "stream",
     "text": [
      "3. [1, 2, 3, 4, 5, 6]\n"
     ]
    }
   ],
   "source": [
    "# 3) 리스트 더하기\n",
    "a = [1, 2, 3]\n",
    "b = [4, 5, 6]\n",
    "print('3.', a + b)"
   ]
  },
  {
   "cell_type": "code",
   "execution_count": 146,
   "metadata": {},
   "outputs": [
    {
     "name": "stdout",
     "output_type": "stream",
     "text": [
      "4. [1, 2, 3, 1, 2, 3, 1, 2, 3]\n"
     ]
    }
   ],
   "source": [
    "# 4) 리스트 반복하기(*)\n",
    "a = [1, 2, 3]\n",
    "print('4.', a * 3)"
   ]
  },
  {
   "cell_type": "code",
   "execution_count": 147,
   "metadata": {},
   "outputs": [
    {
     "name": "stdout",
     "output_type": "stream",
     "text": [
      "5. 5\n"
     ]
    }
   ],
   "source": [
    "# 5) 리스트 길이 구하기\n",
    "a = [1, 2, 3, 4, 5]\n",
    "print('5.', len(a))"
   ]
  },
  {
   "cell_type": "code",
   "execution_count": 148,
   "metadata": {},
   "outputs": [
    {
     "name": "stdout",
     "output_type": "stream",
     "text": [
      "6. [1, 2, 4]\n"
     ]
    }
   ],
   "source": [
    "# 6) 리스트의 값 수정하기\n",
    "a = [1, 2, 3]\n",
    "a[2] = 4\n",
    "print('6.', a)"
   ]
  },
  {
   "cell_type": "code",
   "execution_count": 149,
   "metadata": {},
   "outputs": [
    {
     "name": "stdout",
     "output_type": "stream",
     "text": [
      "7. [1, 2, 5, 6]\n"
     ]
    }
   ],
   "source": [
    "# 7) del 함수를 사용해 리스트 요소 삭제하기\n",
    "a = [1, 2, 3, 4, 5, 6]\n",
    "del a[2:4]\n",
    "print('7.', a)"
   ]
  },
  {
   "cell_type": "code",
   "execution_count": 150,
   "metadata": {},
   "outputs": [
    {
     "name": "stdout",
     "output_type": "stream",
     "text": [
      "8. [1, 2, 3, [5, 6]]\n"
     ]
    }
   ],
   "source": [
    "# 8) 리스트에 요소 추가하기 - append\n",
    "a = [1, 2, 3]\n",
    "a.append([5, 6])\n",
    "print('8.', a)"
   ]
  },
  {
   "cell_type": "code",
   "execution_count": 151,
   "metadata": {},
   "outputs": [
    {
     "name": "stdout",
     "output_type": "stream",
     "text": [
      "9. [1, 2, 3, 4]\n"
     ]
    }
   ],
   "source": [
    "# 9) 리스트 정렬 - sort\n",
    "a = [1, 4, 3, 2]\n",
    "a.sort()\n",
    "print('9.', a)"
   ]
  },
  {
   "cell_type": "code",
   "execution_count": 152,
   "metadata": {},
   "outputs": [
    {
     "name": "stdout",
     "output_type": "stream",
     "text": [
      "10. ['b', 'c', 'a']\n"
     ]
    }
   ],
   "source": [
    "# 10) 리스트 뒤집기 - reverse\n",
    "a = ['a', 'c', 'b']\n",
    "a.reverse()\n",
    "print('10.', a)"
   ]
  },
  {
   "cell_type": "code",
   "execution_count": 153,
   "metadata": {},
   "outputs": [
    {
     "name": "stdout",
     "output_type": "stream",
     "text": [
      "11. 1\n"
     ]
    }
   ],
   "source": [
    "# 11) 인덱스 반환 - index\n",
    "a = [1, 2, 3]\n",
    "print('11.', a.index(2))"
   ]
  },
  {
   "cell_type": "code",
   "execution_count": 154,
   "metadata": {},
   "outputs": [
    {
     "name": "stdout",
     "output_type": "stream",
     "text": [
      "12. [1, 2, 5, 3]\n"
     ]
    }
   ],
   "source": [
    "# 12) 리스트에 요소 삽입 - insert\n",
    "a = [1, 2, 3]\n",
    "a.insert(2, 5)\n",
    "print('12.', a)"
   ]
  },
  {
   "cell_type": "code",
   "execution_count": 155,
   "metadata": {},
   "outputs": [
    {
     "name": "stdout",
     "output_type": "stream",
     "text": [
      "13. [1, 2, 1, 2, 3]\n"
     ]
    }
   ],
   "source": [
    "# 13) 리스트 요소 제거 - remove\n",
    "a = [1, 2, 3, 1, 2, 3]\n",
    "a.remove(3)\n",
    "print('13.', a)"
   ]
  },
  {
   "cell_type": "code",
   "execution_count": 156,
   "metadata": {},
   "outputs": [
    {
     "name": "stdout",
     "output_type": "stream",
     "text": [
      "14. [1, 2]\n"
     ]
    }
   ],
   "source": [
    "# 14) 리스트 요소 끄집어내기 - pop\n",
    "a = [1, 2, 3]\n",
    "a.pop()\n",
    "print('14.', a)"
   ]
  },
  {
   "cell_type": "code",
   "execution_count": 157,
   "metadata": {},
   "outputs": [
    {
     "name": "stdout",
     "output_type": "stream",
     "text": [
      "15. 4\n"
     ]
    }
   ],
   "source": [
    "# 15) 리스트에 포함된 요소 x의 개수 세기 - count\n",
    "a = [1, 2, 3, 1, 5, 1, 5, 1, 2]\n",
    "print('15.', a.count(1))"
   ]
  },
  {
   "cell_type": "code",
   "execution_count": 158,
   "metadata": {},
   "outputs": [
    {
     "name": "stdout",
     "output_type": "stream",
     "text": [
      "16. [1, 2, 3, 4, 5]\n"
     ]
    }
   ],
   "source": [
    "# 16) 리스트 확장 - extend\n",
    "a = [1, 2, 3]\n",
    "a.extend([4, 5])\n",
    "print('16.', a)"
   ]
  },
  {
   "cell_type": "markdown",
   "metadata": {},
   "source": [
    "##### Tuple"
   ]
  },
  {
   "cell_type": "code",
   "execution_count": 159,
   "metadata": {},
   "outputs": [
    {
     "name": "stdout",
     "output_type": "stream",
     "text": [
      "1. a\n"
     ]
    }
   ],
   "source": [
    "# 1) 튜플 인덱싱하기\n",
    "t1 = (1, 2, 'a', 'b')\n",
    "print('1.', t1[2])"
   ]
  },
  {
   "cell_type": "code",
   "execution_count": 160,
   "metadata": {},
   "outputs": [
    {
     "name": "stdout",
     "output_type": "stream",
     "text": [
      "2. (2, 'a', 'b')\n"
     ]
    }
   ],
   "source": [
    "# 2) 튜플 슬라이싱하기\n",
    "t1 = (1, 2, 'a', 'b')\n",
    "print('2.', t1[1:])"
   ]
  },
  {
   "cell_type": "code",
   "execution_count": 161,
   "metadata": {},
   "outputs": [
    {
     "name": "stdout",
     "output_type": "stream",
     "text": [
      "3. (1, 2, 'a', 'b', 3, 4)\n"
     ]
    }
   ],
   "source": [
    "# 3) 튜플 더하기\n",
    "t1 = (1, 2, 'a', 'b')\n",
    "t2 = (3, 4)\n",
    "t3 = t1 + t2\n",
    "print('3.', t3)"
   ]
  },
  {
   "cell_type": "code",
   "execution_count": 162,
   "metadata": {},
   "outputs": [
    {
     "name": "stdout",
     "output_type": "stream",
     "text": [
      "4. (3, 4, 3, 4, 3, 4)\n"
     ]
    }
   ],
   "source": [
    "# 4) 튜플 곱하기\n",
    "t2 = (3, 4)\n",
    "t3 = t2 * 3\n",
    "print('4.', t3)"
   ]
  },
  {
   "cell_type": "code",
   "execution_count": 163,
   "metadata": {},
   "outputs": [
    {
     "name": "stdout",
     "output_type": "stream",
     "text": [
      "5. 4\n"
     ]
    }
   ],
   "source": [
    "# 5) 튜플 길이 구하기\n",
    "t1 = (1, 2, 'a', 'b')\n",
    "print('5.', len(t1))"
   ]
  },
  {
   "cell_type": "markdown",
   "metadata": {},
   "source": [
    "### Dictionary"
   ]
  },
  {
   "cell_type": "code",
   "execution_count": 164,
   "metadata": {},
   "outputs": [
    {
     "name": "stdout",
     "output_type": "stream",
     "text": [
      "1. {1: 'a', 3: [1, 2, 3]}\n"
     ]
    }
   ],
   "source": [
    "# 1) 딕셔너리 쌍 추가하기\n",
    "a = {1: 'a'}\n",
    "a[3] = [1, 2, 3]\n",
    "print('1.', a)"
   ]
  },
  {
   "cell_type": "code",
   "execution_count": 165,
   "metadata": {},
   "outputs": [
    {
     "name": "stdout",
     "output_type": "stream",
     "text": [
      "2. {3: [1, 2, 3]}\n"
     ]
    }
   ],
   "source": [
    "# 2) 딕셔너리 요소 삭제하기\n",
    "del a[1]\n",
    "print('2.', a)"
   ]
  },
  {
   "cell_type": "code",
   "execution_count": 166,
   "metadata": {},
   "outputs": [
    {
     "name": "stdout",
     "output_type": "stream",
     "text": [
      "3. 99\n"
     ]
    }
   ],
   "source": [
    "# 3) 딕셔너리에서 key를 사용해 value 얻기\n",
    "grade = {'pey' : 10, 'julliet' : 99}\n",
    "print('3.', grade['julliet'])"
   ]
  },
  {
   "cell_type": "code",
   "execution_count": 167,
   "metadata": {},
   "outputs": [
    {
     "name": "stdout",
     "output_type": "stream",
     "text": [
      "4. {1: 'b'}\n"
     ]
    }
   ],
   "source": [
    "# 4) 딕셔너리 만들 때 주의할 사항\n",
    "a = {1 : 'a', 1 : 'b'}\n",
    "# 1:'a' 쌍이 무시됨\n",
    "print('4.', a)"
   ]
  },
  {
   "cell_type": "code",
   "execution_count": 168,
   "metadata": {},
   "outputs": [
    {
     "name": "stdout",
     "output_type": "stream",
     "text": [
      "5. dict_keys(['name', 'phone', 'birth'])\n"
     ]
    }
   ],
   "source": [
    "# 5) key 리스트 만들기 - keys\n",
    "a = {'name': 'pey', 'phone': '010-9999-1234', 'birth': '1118'}\n",
    "print('5.', a.keys())"
   ]
  },
  {
   "cell_type": "code",
   "execution_count": 169,
   "metadata": {},
   "outputs": [
    {
     "name": "stdout",
     "output_type": "stream",
     "text": [
      "6. dict_values(['pey', '010-9999-1234', '1118'])\n"
     ]
    }
   ],
   "source": [
    "# 6) value 리스트 만들기 - values\n",
    "print('6.', a.values())"
   ]
  },
  {
   "cell_type": "code",
   "execution_count": 170,
   "metadata": {},
   "outputs": [
    {
     "name": "stdout",
     "output_type": "stream",
     "text": [
      "7. dict_items([('name', 'pey'), ('phone', '010-9999-1234'), ('birth', '1118')])\n"
     ]
    }
   ],
   "source": [
    "# 7) key, value 쌍 얻기 - items\n",
    "print('7.', a.items())"
   ]
  },
  {
   "cell_type": "code",
   "execution_count": 171,
   "metadata": {},
   "outputs": [
    {
     "name": "stdout",
     "output_type": "stream",
     "text": [
      "8. None\n"
     ]
    }
   ],
   "source": [
    "# 8) key: value 쌍 모두 지우기 - clear\n",
    "print('8.', a.clear())"
   ]
  },
  {
   "cell_type": "code",
   "execution_count": 172,
   "metadata": {},
   "outputs": [
    {
     "name": "stdout",
     "output_type": "stream",
     "text": [
      "9. pey\n",
      "   None\n"
     ]
    }
   ],
   "source": [
    "# 9) key로 value 얻기 - get\n",
    "a = {'name': 'pey', 'phone': '010-9999-1234', 'birth': '1118'}\n",
    "print('9.', a.get('name'))\n",
    "# a['nokey'] 방식은 오류를 발생\n",
    "print('  ', a.get('nokey'))"
   ]
  },
  {
   "cell_type": "code",
   "execution_count": 173,
   "metadata": {},
   "outputs": [
    {
     "name": "stdout",
     "output_type": "stream",
     "text": [
      "10. True\n",
      "    False\n"
     ]
    }
   ],
   "source": [
    "# 10) 해당 key가 딕셔너리 안에 있는지 조사하기 - in\n",
    "a = {'name': 'pey', 'phone': '010-9999-1234', 'birth': '1118'}\n",
    "print('10.', 'name' in a)\n",
    "print('   ', 'email' in a)"
   ]
  },
  {
   "cell_type": "code",
   "execution_count": 174,
   "metadata": {},
   "outputs": [
    {
     "name": "stdout",
     "output_type": "stream",
     "text": [
      "{'name': '홍길동', 'birth': '1128', 'age': 30}\n"
     ]
    }
   ],
   "source": [
    "# 1분 코딩\n",
    "a = {'name': '홍길동', 'birth': '1128', 'age': 30}\n",
    "print(a)"
   ]
  },
  {
   "cell_type": "markdown",
   "metadata": {},
   "source": [
    "### 집합 자료형\n",
    "- 중복을 허용하지 않는다: 중복을 허용하지 않는 특징 때문에 데이터의 중복을 제거하기 위한 필터로 사용\n",
    "- 순서가 없다: 인덱싱을 통해 요솟값을 얻을 수 없다"
   ]
  },
  {
   "cell_type": "code",
   "execution_count": 175,
   "metadata": {},
   "outputs": [],
   "source": [
    "s1 = set([1, 2, 3, 4, 5, 6])\n",
    "s2 = set([4, 5, 6, 7, 8, 9])"
   ]
  },
  {
   "cell_type": "code",
   "execution_count": 176,
   "metadata": {},
   "outputs": [
    {
     "name": "stdout",
     "output_type": "stream",
     "text": [
      "1. {4, 5, 6}\n",
      "   {4, 5, 6}\n"
     ]
    }
   ],
   "source": [
    "# 1) 교집합 구하기\n",
    "print('1.', s1 & s2)\n",
    "print('  ', s1.intersection(s2))"
   ]
  },
  {
   "cell_type": "code",
   "execution_count": 177,
   "metadata": {},
   "outputs": [
    {
     "name": "stdout",
     "output_type": "stream",
     "text": [
      "2. {1, 2, 3, 4, 5, 6, 7, 8, 9}\n",
      "   {1, 2, 3, 4, 5, 6, 7, 8, 9}\n"
     ]
    }
   ],
   "source": [
    "# 2) 합집합 구하기\n",
    "print('2.', s1 | s2)\n",
    "print('  ', s1.union(s2))"
   ]
  },
  {
   "cell_type": "code",
   "execution_count": 178,
   "metadata": {},
   "outputs": [
    {
     "name": "stdout",
     "output_type": "stream",
     "text": [
      "3. {1, 2, 3}\n",
      "   {1, 2, 3}\n"
     ]
    }
   ],
   "source": [
    "# 3) 차집합 구하기\n",
    "print('3.', s1 - s2)\n",
    "print('  ', s1.difference(s2))"
   ]
  },
  {
   "cell_type": "code",
   "execution_count": 179,
   "metadata": {},
   "outputs": [
    {
     "name": "stdout",
     "output_type": "stream",
     "text": [
      "4. {1, 2, 3, 4}\n"
     ]
    }
   ],
   "source": [
    "# 4) 값 1개 추가하기 - add\n",
    "s1 = set([1, 2, 3])\n",
    "s1.add(4)\n",
    "print('4.', s1)"
   ]
  },
  {
   "cell_type": "code",
   "execution_count": 180,
   "metadata": {},
   "outputs": [
    {
     "name": "stdout",
     "output_type": "stream",
     "text": [
      "5. {1, 2, 3, 4, 5, 6}\n"
     ]
    }
   ],
   "source": [
    "# 5) 값 여러개 추가하기 - update\n",
    "s1 = set([1, 2, 3])\n",
    "s1.update([4, 5, 6])\n",
    "print('5.', s1)"
   ]
  },
  {
   "cell_type": "code",
   "execution_count": 181,
   "metadata": {},
   "outputs": [
    {
     "name": "stdout",
     "output_type": "stream",
     "text": [
      "6. {1, 3}\n"
     ]
    }
   ],
   "source": [
    "# 6) 특정값 제거하기 - remove\n",
    "s1 = set([1, 2, 3])\n",
    "s1.remove(2)\n",
    "print('6.', s1)"
   ]
  },
  {
   "cell_type": "markdown",
   "metadata": {},
   "source": [
    "### Boolean\n",
    "- True: 참을 의미\n",
    "- False: 거짓을 의미\n",
    "- 자료형의 참과 거짓: 문자열, 리스트, 튜플, 딕셔너리 등의 값이 비어 있거나 숫자 0은 거짓이 되고 비어있지 않다면 참이 된다"
   ]
  },
  {
   "cell_type": "code",
   "execution_count": 182,
   "metadata": {},
   "outputs": [
    {
     "name": "stdout",
     "output_type": "stream",
     "text": [
      "True\n",
      "False\n",
      "True\n",
      "True\n",
      "False\n",
      "False\n",
      "True\n"
     ]
    }
   ],
   "source": [
    "# 불연산\n",
    "print(bool('python'))\n",
    "print(bool(''))\n",
    "print(bool(' '))\n",
    "print(bool([1, 2, 3]))\n",
    "print(bool([]))\n",
    "print(bool(0))\n",
    "print(bool(3))"
   ]
  },
  {
   "cell_type": "markdown",
   "metadata": {},
   "source": [
    "##### 되새김 문제"
   ]
  },
  {
   "cell_type": "code",
   "execution_count": 183,
   "metadata": {},
   "outputs": [
    {
     "name": "stdout",
     "output_type": "stream",
     "text": [
      "1. 70.0\n"
     ]
    }
   ],
   "source": [
    "#### 되새김 문제 ####\n",
    "\n",
    "# Q1. 평균 점수 구하기\n",
    "import numpy as np\n",
    "dic = {'국어': 80, '영어': 75, '수학': 55}\n",
    "value_list = list(dic.values())\n",
    "print('1.', np.mean(value_list))"
   ]
  },
  {
   "cell_type": "code",
   "execution_count": 184,
   "metadata": {},
   "outputs": [
    {
     "name": "stdout",
     "output_type": "stream",
     "text": [
      "2. 홀수\n"
     ]
    }
   ],
   "source": [
    "#### 되새김 문제 ####\n",
    "\n",
    "# Q2. 홀수, 짝수 판별하기\n",
    "num = 13\n",
    "if (num % 2) == 0:\n",
    "    print('2. 짝수')\n",
    "else:\n",
    "    print('2. 홀수')"
   ]
  },
  {
   "cell_type": "code",
   "execution_count": 185,
   "metadata": {},
   "outputs": [
    {
     "name": "stdout",
     "output_type": "stream",
     "text": [
      "3. 19881120 1068234\n"
     ]
    }
   ],
   "source": [
    "#### 되새김 문제 ####\n",
    "\n",
    "# Q3. 주민등록번호 나누기\n",
    "pin = '881120-1068234'\n",
    "pin_num = pin.split('-')\n",
    "yyyymmdd = '19' + str(pin_num[0])\n",
    "num = pin_num[1]\n",
    "print('3.', yyyymmdd, num)"
   ]
  },
  {
   "cell_type": "code",
   "execution_count": 186,
   "metadata": {},
   "outputs": [
    {
     "name": "stdout",
     "output_type": "stream",
     "text": [
      "4. 1\n"
     ]
    }
   ],
   "source": [
    "#### 되새김 문제 ####\n",
    "\n",
    "# Q4. 주민등록번호 인덱싱\n",
    "pin = '881120-1068234'\n",
    "print('4.', pin[7])"
   ]
  },
  {
   "cell_type": "code",
   "execution_count": 187,
   "metadata": {},
   "outputs": [
    {
     "name": "stdout",
     "output_type": "stream",
     "text": [
      "5. a#b#c#d\n"
     ]
    }
   ],
   "source": [
    "#### 되새김 문제 ####\n",
    "\n",
    "# Q5. 문자열 바꾸기\n",
    "a = 'a:b:c:d'\n",
    "b = a.replace(':', '#')\n",
    "print('5.', b)"
   ]
  },
  {
   "cell_type": "code",
   "execution_count": 188,
   "metadata": {},
   "outputs": [
    {
     "name": "stdout",
     "output_type": "stream",
     "text": [
      "6. [5, 4, 3, 2, 1]\n"
     ]
    }
   ],
   "source": [
    "#### 되새김 문제 ####\n",
    "\n",
    "# Q6. 리스트 역순 정렬하기\n",
    "a = [1, 3, 5, 4, 2]\n",
    "a.sort()\n",
    "a.reverse()\n",
    "print('6.', a)"
   ]
  },
  {
   "cell_type": "code",
   "execution_count": 189,
   "metadata": {},
   "outputs": [
    {
     "name": "stdout",
     "output_type": "stream",
     "text": [
      "7. Life is too short\n"
     ]
    }
   ],
   "source": [
    "#### 되새김 문제 ####\n",
    "\n",
    "# Q7. 리스트를 문자열로 만들기\n",
    "a = ['Life', 'is', 'too', 'short']\n",
    "result = ' '.join(a)\n",
    "print('7.', result)"
   ]
  },
  {
   "cell_type": "code",
   "execution_count": 190,
   "metadata": {},
   "outputs": [
    {
     "name": "stdout",
     "output_type": "stream",
     "text": [
      "8. (1, 2, 3, 4)\n"
     ]
    }
   ],
   "source": [
    "#### 되새김 문제 ####\n",
    "\n",
    "# Q8. 튜플 더하기\n",
    "a = (1, 2, 3)\n",
    "a = (1, 2, 3) + (4, )\n",
    "print('8.', a)"
   ]
  },
  {
   "cell_type": "code",
   "execution_count": 191,
   "metadata": {},
   "outputs": [
    {
     "name": "stdout",
     "output_type": "stream",
     "text": [
      "9. 80\n"
     ]
    }
   ],
   "source": [
    "#### 되새김 문제 ####\n",
    "\n",
    "# 9. 딕셔너리 값 추출하기\n",
    "a = {'A': 90, 'B': 80, 'C': 70}\n",
    "# pop method a.pop('b')\n",
    "result = a['B']\n",
    "print('9.', result)"
   ]
  },
  {
   "cell_type": "code",
   "execution_count": 192,
   "metadata": {},
   "outputs": [
    {
     "name": "stdout",
     "output_type": "stream",
     "text": [
      "10. [1, 2, 3, 4, 5]\n"
     ]
    }
   ],
   "source": [
    "#### 되새김 문제 ####\n",
    "\n",
    "# 10. 리스트에서 중복 제거하기\n",
    "a = [1, 1, 1, 2, 2, 3, 3, 3, 4, 4, 5]\n",
    "aSet = set(a)\n",
    "b = list(aSet)\n",
    "print('10.', b)"
   ]
  },
  {
   "cell_type": "markdown",
   "metadata": {},
   "source": [
    "### 조건문\n",
    "- pass: 아무런 작동도 하지 않도록 설정하고 싶을 때 사용\n",
    "- 조건부표현식: 변수 = 조건문이 참인 경우의 값 if 조건문 else 조건문이 거짓인 경우의 값"
   ]
  },
  {
   "cell_type": "code",
   "execution_count": 193,
   "metadata": {},
   "outputs": [
    {
     "name": "stdout",
     "output_type": "stream",
     "text": [
      "1. Take a walk\n"
     ]
    }
   ],
   "source": [
    "# 1)\n",
    "money = 2000\n",
    "if money >= 3000:\n",
    "    print('1. Take a taxi')\n",
    "else:\n",
    "    print('1. Take a walk')"
   ]
  },
  {
   "cell_type": "code",
   "execution_count": 194,
   "metadata": {},
   "outputs": [
    {
     "name": "stdout",
     "output_type": "stream",
     "text": [
      "2. Take a taxi\n"
     ]
    }
   ],
   "source": [
    "# 2) and, or, not\n",
    "money = 2000\n",
    "card = True\n",
    "if money >= 3000 or card:\n",
    "    print('2. Take a taxi')\n",
    "else:\n",
    "    print('2. Take a walk')"
   ]
  },
  {
   "cell_type": "code",
   "execution_count": 195,
   "metadata": {},
   "outputs": [
    {
     "name": "stdout",
     "output_type": "stream",
     "text": [
      "3. Take a taxi\n"
     ]
    }
   ],
   "source": [
    "# 3) in, not in\n",
    "pocket = ['paper', 'cellphone', 'money']\n",
    "if 'money' in pocket:\n",
    "    print('3. Take a taxi')\n",
    "else:\n",
    "    print('3. Take a walk')"
   ]
  },
  {
   "cell_type": "code",
   "execution_count": 196,
   "metadata": {},
   "outputs": [
    {
     "name": "stdout",
     "output_type": "stream",
     "text": [
      "4. Take a taxi\n"
     ]
    }
   ],
   "source": [
    "# 4) elif\n",
    "pocket = ['paper', 'cellphone']\n",
    "card = True\n",
    "if 'money' in pocket:\n",
    "    print('4. Take a taxi')\n",
    "elif card:\n",
    "    print('4. Take a taxi')\n",
    "else:\n",
    "    print('4. Take a walk')"
   ]
  },
  {
   "cell_type": "code",
   "execution_count": 197,
   "metadata": {},
   "outputs": [
    {
     "name": "stdout",
     "output_type": "stream",
     "text": [
      "5. failure\n"
     ]
    }
   ],
   "source": [
    "# 5) 조건부 표현식\n",
    "score = 30\n",
    "message = 'success' if score >= 60 else 'failure'\n",
    "print('5.', message)"
   ]
  },
  {
   "cell_type": "code",
   "execution_count": 198,
   "metadata": {},
   "outputs": [],
   "source": [
    "# 1분 코딩\n",
    "pocket = ['paper', 'money', 'cellphone']\n",
    "if 'money' in pocket:\n",
    "    pass\n",
    "else:\n",
    "    print('Card')"
   ]
  },
  {
   "cell_type": "markdown",
   "metadata": {},
   "source": [
    "### 반복문\n",
    "<pre>\n",
    "list comprehension: [표현식 for 항목1 in 반복가능개체1 if 조건문1\n",
    "                           for 항목2 in 반복가능개체2 if 조건문2\n",
    "                           ...\n",
    "                           for 항목n in 반복가능개체n if 조건문n]\n",
    "</pre>"
   ]
  },
  {
   "cell_type": "code",
   "execution_count": 206,
   "metadata": {},
   "outputs": [
    {
     "name": "stdout",
     "output_type": "stream",
     "text": [
      "1. \n",
      "돈을 받았으니 커피를 줍니다\n",
      "남은 커피의 양은 0개 입니다\n",
      "커피가 다 떨어졌습니다.\n"
     ]
    }
   ],
   "source": [
    "# 1) while\n",
    "coffee = 1\n",
    "money = 300\n",
    "print('1. ')\n",
    "while True:\n",
    "    print('돈을 받았으니 커피를 줍니다')\n",
    "    coffee -= 1\n",
    "    print('남은 커피의 양은 %d개 입니다' %coffee)\n",
    "    if coffee == 0:\n",
    "        print('커피가 다 떨어졌습니다.')\n",
    "        break\n",
    "    else:\n",
    "        continue"
   ]
  },
  {
   "cell_type": "code",
   "execution_count": 207,
   "metadata": {},
   "outputs": [
    {
     "name": "stdout",
     "output_type": "stream",
     "text": [
      "2. ['one', 'two', 'three']\n"
     ]
    }
   ],
   "source": [
    "# 2) 전형적인 for 문\n",
    "test_list = ['one', 'two', 'three']\n",
    "li = []\n",
    "for i in test_list:\n",
    "    li.append(i)\n",
    "print('2.', li)"
   ]
  },
  {
   "cell_type": "code",
   "execution_count": 208,
   "metadata": {},
   "outputs": [
    {
     "name": "stdout",
     "output_type": "stream",
     "text": [
      "3. [3, 7, 11]\n"
     ]
    }
   ],
   "source": [
    "# 3) 다양한 for 문의 사용\n",
    "li = []\n",
    "a = [(1, 2), (3, 4), (5, 6)]\n",
    "for (first, last) in a:\n",
    "    li.append(first + last)\n",
    "print('3.', li)"
   ]
  },
  {
   "cell_type": "code",
   "execution_count": 209,
   "metadata": {},
   "outputs": [
    {
     "name": "stdout",
     "output_type": "stream",
     "text": [
      "5. 4번 학생 합격입니다.\n"
     ]
    }
   ],
   "source": [
    "# 4) for 문의 응용\n",
    "marks = [55, 24, 15, 80, 7]\n",
    "for number in range(len(marks)):\n",
    "    if marks[number] <= 60:\n",
    "        continue\n",
    "    else:\n",
    "        print('5. %d번 학생 합격입니다.' %(number + 1))"
   ]
  },
  {
   "cell_type": "markdown",
   "metadata": {},
   "source": [
    "##### 되새김 문제"
   ]
  },
  {
   "cell_type": "code",
   "execution_count": 200,
   "metadata": {},
   "outputs": [
    {
     "name": "stdout",
     "output_type": "stream",
     "text": [
      "166833\n"
     ]
    }
   ],
   "source": [
    "#### 되새김 문제 ####\n",
    "\n",
    "# Q1. 3의 배수 합 구하기\n",
    "result = 0\n",
    "i = 1\n",
    "while i <= 1000:\n",
    "    if (i % 3 == 0):\n",
    "        result += i\n",
    "    i += 1\n",
    "print(result)"
   ]
  },
  {
   "cell_type": "code",
   "execution_count": 201,
   "metadata": {},
   "outputs": [
    {
     "name": "stdout",
     "output_type": "stream",
     "text": [
      "*\n",
      "**\n",
      "***\n",
      "****\n",
      "*****\n"
     ]
    }
   ],
   "source": [
    "#### 되새김 문제 ####\n",
    "\n",
    "# Q2. 별 표시하기\n",
    "i = 0\n",
    "while True:\n",
    "    i += 1\n",
    "    if (i == 6):\n",
    "        break\n",
    "    print('*' * i)"
   ]
  },
  {
   "cell_type": "code",
   "execution_count": 202,
   "metadata": {},
   "outputs": [
    {
     "name": "stdout",
     "output_type": "stream",
     "text": [
      "[96, 97, 98, 99, 100]\n"
     ]
    }
   ],
   "source": [
    "#### 되새김 문제 ####\n",
    "\n",
    "# Q3. 1부터 100까지 출력하기\n",
    "li = []\n",
    "for i in range(100):\n",
    "    li.append(i + 1)\n",
    "print(li[-5:])"
   ]
  },
  {
   "cell_type": "code",
   "execution_count": 203,
   "metadata": {},
   "outputs": [
    {
     "name": "stdout",
     "output_type": "stream",
     "text": [
      "79.0\n"
     ]
    }
   ],
   "source": [
    "#### 되새김 문제 ####\n",
    "\n",
    "# Q4. 평균 점수 구하기\n",
    "score = [70, 60, 55, 75, 95, 90, 80, 80, 85, 100]\n",
    "score_sum = 0\n",
    "for i in score:\n",
    "    score_sum += i\n",
    "\n",
    "print(score_sum / len(score))\n"
   ]
  },
  {
   "cell_type": "code",
   "execution_count": 205,
   "metadata": {},
   "outputs": [
    {
     "name": "stdout",
     "output_type": "stream",
     "text": [
      "[6]\n"
     ]
    }
   ],
   "source": [
    "#### 되새김 문제 ####\n",
    "\n",
    "# Q5. 리스트 컴프리헨션 사용하기\n",
    "numbers = [1, 2, 3, 4, 5]\n",
    "result = [i * 2 for i in numbers if i % 3 == 0]\n",
    "print(result)"
   ]
  },
  {
   "cell_type": "markdown",
   "metadata": {},
   "source": [
    "### 함수\n",
    "<div style=\"display: flex;\">\n",
    "  <div style=\"flex: 1; padding: 10px;\">\n",
    "   <h2>함수의 구조</h2>\n",
    "   <pre>\n",
    "   def function_name(parameter):<br>\n",
    "      sentence1<br>\n",
    "      sentence2<br>\n",
    "      ···\n",
    "   </pre>\n",
    "  </div>\n",
    "  <div style=\"flex: 1; padding: 10px;\">\n",
    "    <h2>일반적인 함수</h2>\n",
    "    <pre>\n",
    "   def function_name(parameter):<br>\n",
    "      sentence<br>\n",
    "      ···<br>\n",
    "      return return_value\n",
    "   </pre>\n",
    "  </div>\n",
    "</div>"
   ]
  },
  {
   "cell_type": "code",
   "execution_count": 213,
   "metadata": {},
   "outputs": [
    {
     "name": "stdout",
     "output_type": "stream",
     "text": [
      "3, 4의 합은 7입니다.\n",
      "None\n"
     ]
    }
   ],
   "source": [
    "# 1) 리턴값이 없는 함수\n",
    "def add(a, b):\n",
    "    print('%d, %d의 합은 %d입니다.' %(a, b, a + b))\n",
    "\n",
    "a = add(3, 4)\n",
    "print(a)"
   ]
  },
  {
   "cell_type": "code",
   "execution_count": 228,
   "metadata": {},
   "outputs": [
    {
     "name": "stdout",
     "output_type": "stream",
     "text": [
      "55\n"
     ]
    }
   ],
   "source": [
    "# 2) 여러 개의 입력값을 받는 함수\n",
    "def add_mul(choice, *args):\n",
    "    if choice == 'add':\n",
    "        result = 0\n",
    "        for i in args:\n",
    "            result += i\n",
    "    elif choice == 'mul':\n",
    "        result = 1\n",
    "        for i in args:\n",
    "            result *=  i\n",
    "    return result\n",
    "\n",
    "result = add_mul('add', 1, 2, 3, 4, 5, 6, 7, 8, 9, 10)\n",
    "print(result)"
   ]
  },
  {
   "cell_type": "code",
   "execution_count": 229,
   "metadata": {},
   "outputs": [
    {
     "name": "stdout",
     "output_type": "stream",
     "text": [
      "{'name': 'poo', 'age': 3, 'gender': 'male'}\n"
     ]
    }
   ],
   "source": [
    "# 2) 키워드 매개변수 - kwargs\n",
    "def print_kwargs(**kwargs):\n",
    "    print(kwargs)\n",
    "\n",
    "print_kwargs(name = 'poo', age = 3, gender = 'male')"
   ]
  },
  {
   "cell_type": "code",
   "execution_count": 230,
   "metadata": {},
   "outputs": [
    {
     "name": "stdout",
     "output_type": "stream",
     "text": [
      "(7, 12) 7 12\n"
     ]
    }
   ],
   "source": [
    "# 3) 함수의 리턴값은 언제나 하나\n",
    "def add_and_mul(a, b):\n",
    "    return a + b, a * b\n",
    "\n",
    "result1, result2 = add_and_mul(3, 4)\n",
    "print(add_and_mul(3, 4), result1, result2)"
   ]
  },
  {
   "cell_type": "code",
   "execution_count": 236,
   "metadata": {},
   "outputs": [
    {
     "name": "stdout",
     "output_type": "stream",
     "text": [
      "name : alice\n",
      "age : 27\n",
      "gender : man\n",
      "name : ben\n",
      "age : 30\n",
      "gender : woman\n"
     ]
    }
   ],
   "source": [
    "# 4) 매개변수에 초깃값 미리 설정 - 초기화하고 싶은 변수는 항상 뒤쪽에\n",
    "def say_myself(name, age, man = True):\n",
    "    print('name :', name)\n",
    "    print('age :', age)\n",
    "    if man:\n",
    "        print('gender : man')\n",
    "    else:\n",
    "        print('gender : woman')\n",
    "\n",
    "say_myself('alice', 27)\n",
    "say_myself('ben', 30, False)"
   ]
  },
  {
   "cell_type": "code",
   "execution_count": 240,
   "metadata": {},
   "outputs": [
    {
     "name": "stdout",
     "output_type": "stream",
     "text": [
      "2\n"
     ]
    }
   ],
   "source": [
    "# 5) 함수 안에서 함수 밖의 변수를 변경하는 방법 - return\n",
    "a = 1\n",
    "def vartest(a):\n",
    "    a += 1\n",
    "    return a\n",
    "\n",
    "a = vartest(a)\n",
    "print(a)"
   ]
  },
  {
   "cell_type": "code",
   "execution_count": 241,
   "metadata": {},
   "outputs": [
    {
     "name": "stdout",
     "output_type": "stream",
     "text": [
      "2\n"
     ]
    }
   ],
   "source": [
    "# 5) 함수 안에서 함수 밖의 변수를 변경하는 방법 - global\n",
    "a = 1\n",
    "def vartest():\n",
    "    global a\n",
    "    a += 1\n",
    "\n",
    "\n",
    "vartest()\n",
    "print(a)"
   ]
  },
  {
   "cell_type": "code",
   "execution_count": 242,
   "metadata": {},
   "outputs": [
    {
     "name": "stdout",
     "output_type": "stream",
     "text": [
      "7\n"
     ]
    }
   ],
   "source": [
    "# 6) lambda 예약어\n",
    "add = lambda a, b: a + b\n",
    "result = add(3, 4)\n",
    "print(result)"
   ]
  },
  {
   "cell_type": "markdown",
   "metadata": {},
   "source": [
    "#### 사용자 입출력"
   ]
  },
  {
   "cell_type": "code",
   "execution_count": 244,
   "metadata": {},
   "outputs": [
    {
     "name": "stdout",
     "output_type": "stream",
     "text": [
      "<class 'str'> 3\n"
     ]
    }
   ],
   "source": [
    "# 1) input 사용\n",
    "number = input('숫자를 입력하세요: ')\n",
    "print(type(number), number)"
   ]
  },
  {
   "cell_type": "code",
   "execution_count": 245,
   "metadata": {},
   "outputs": [
    {
     "name": "stdout",
     "output_type": "stream",
     "text": [
      "Lifeistooshort\n",
      "Lifeistooshort\n"
     ]
    }
   ],
   "source": [
    "# 2) 큰따옴표로 둘러싸인 문자열은 + 연산과 동일\n",
    "print('Life' 'is' 'too' 'short')\n",
    "print('Life' + 'is' + 'too' + 'short')"
   ]
  },
  {
   "cell_type": "code",
   "execution_count": 246,
   "metadata": {},
   "outputs": [
    {
     "name": "stdout",
     "output_type": "stream",
     "text": [
      "Life is too short\n"
     ]
    }
   ],
   "source": [
    "# 3) 문자열 띄어쓰기는 쉼표\n",
    "print('Life', 'is', 'too', 'short')"
   ]
  },
  {
   "cell_type": "code",
   "execution_count": 248,
   "metadata": {},
   "outputs": [
    {
     "name": "stdout",
     "output_type": "stream",
     "text": [
      "0 1 2 3 4 5 6 7 8 9 "
     ]
    }
   ],
   "source": [
    "# 4) 한 줄에 결과값 출력하기\n",
    "for i in range(10):\n",
    "    print(i, end = ' ')"
   ]
  },
  {
   "cell_type": "markdown",
   "metadata": {},
   "source": [
    "##### 되새김 문제"
   ]
  },
  {
   "cell_type": "code",
   "execution_count": 252,
   "metadata": {},
   "outputs": [
    {
     "data": {
      "text/plain": [
       "False"
      ]
     },
     "execution_count": 252,
     "metadata": {},
     "output_type": "execute_result"
    }
   ],
   "source": [
    "##### 되새김 문제\n",
    "\n",
    "# 1) 홀수, 짝수 판별하기\n",
    "def is_odd(number):\n",
    "    if (number % 2 != 0):\n",
    "        return True\n",
    "    else:\n",
    "        return False\n",
    "    \n",
    "\n",
    "is_odd(14)"
   ]
  },
  {
   "cell_type": "code",
   "execution_count": 255,
   "metadata": {},
   "outputs": [
    {
     "data": {
      "text/plain": [
       "5.5"
      ]
     },
     "execution_count": 255,
     "metadata": {},
     "output_type": "execute_result"
    }
   ],
   "source": [
    "##### 되새김 문제\n",
    "\n",
    "# 2) 모든 입력의 평균값 구하기\n",
    "def avg_numbers(*args):\n",
    "    result = 0\n",
    "    for i in args:\n",
    "        result += i\n",
    "    result = result / len(args)\n",
    "    return result\n",
    "\n",
    "avg_numbers(1, 2, 3, 4, 5, 6, 7, 8, 9, 10)"
   ]
  },
  {
   "cell_type": "markdown",
   "metadata": {},
   "source": [
    "### 클래스"
   ]
  },
  {
   "cell_type": "code",
   "execution_count": 260,
   "metadata": {},
   "outputs": [
    {
     "name": "stdout",
     "output_type": "stream",
     "text": [
      "3 7 3 -4\n"
     ]
    }
   ],
   "source": [
    "# 1)\n",
    "class Calculator:\n",
    "    def __init__(self):\n",
    "        self.result = 0\n",
    "\n",
    "    def add(self, num):\n",
    "        self.result += num\n",
    "        return self.result\n",
    "    \n",
    "    def sub(self, num):\n",
    "        self.result -= num\n",
    "        return self.result\n",
    "\n",
    "cal1 = Calculator()\n",
    "cal2 = Calculator()\n",
    "\n",
    "print(cal1.add(3), cal1.add(4), cal2.add(3), cal2.sub(7))"
   ]
  },
  {
   "cell_type": "code",
   "execution_count": 273,
   "metadata": {},
   "outputs": [
    {
     "name": "stdout",
     "output_type": "stream",
     "text": [
      "15 5 50 2.0\n"
     ]
    }
   ],
   "source": [
    "# 2)\n",
    "class Fourcal():\n",
    "    def setdata(self, number1, number2):\n",
    "        self.number1 = number1\n",
    "        self.number2 = number2\n",
    "    def add(self):\n",
    "        result = self.number1 + self.number2\n",
    "        return result\n",
    "    def sub(self):\n",
    "        result = self.number1 - self.number2\n",
    "        return result\n",
    "    def mul(self):\n",
    "        result = self.number1 * self.number2\n",
    "        return result\n",
    "    def div(self):\n",
    "        result = self.number1 / self.number2\n",
    "        return result\n",
    "    \n",
    "a = Fourcal()\n",
    "a.setdata(10, 5)\n",
    "print(a.add(), a.sub(), a.mul(), a.div())"
   ]
  },
  {
   "cell_type": "code",
   "execution_count": 274,
   "metadata": {},
   "outputs": [
    {
     "name": "stdout",
     "output_type": "stream",
     "text": [
      "4 2 6\n"
     ]
    }
   ],
   "source": [
    "# 3) 생성자 (Constructor)\n",
    "class addcal():\n",
    "    def __init__(self, number1, number2):\n",
    "        self.number1 = number1\n",
    "        self.number2 = number2\n",
    "    def setdata(self, number1, number2):\n",
    "        self.number1 = number1\n",
    "        self.number2 = number2\n",
    "    def add(self):\n",
    "        result = self.number1 + self.number2\n",
    "        return result\n",
    "    \n",
    "a = addcal(4, 2)\n",
    "print(a.number1, a.number2, a.add())"
   ]
  },
  {
   "cell_type": "code",
   "execution_count": 278,
   "metadata": {},
   "outputs": [
    {
     "name": "stdout",
     "output_type": "stream",
     "text": [
      "16 8 20736\n"
     ]
    }
   ],
   "source": [
    "# 4) 클래스의 상속 (Inheritance)\n",
    "class MoreFourcal(Fourcal):\n",
    "    def pow(self):\n",
    "        result = self.number1 ** self.number2\n",
    "        return result\n",
    "\n",
    "a = MoreFourcal()\n",
    "a.setdata(12, 4)\n",
    "print(a.add(), a.sub(), a.pow())"
   ]
  },
  {
   "cell_type": "code",
   "execution_count": 279,
   "metadata": {},
   "outputs": [
    {
     "data": {
      "text/plain": [
       "0"
      ]
     },
     "execution_count": 279,
     "metadata": {},
     "output_type": "execute_result"
    }
   ],
   "source": [
    "# 5) 메서드 오버라이딩 (Method Overriding) - 부모클래스에 있는 메서드를 동일한 이름으로 다시 만드는 것\n",
    "class SafeFourcal(Fourcal):\n",
    "    def div(self):\n",
    "        if self.number2 == 0:\n",
    "            return 0\n",
    "        else:\n",
    "            return self.number1 / self.number2\n",
    "\n",
    "a = SafeFourcal()\n",
    "a.setdata(10, 0)\n",
    "a.div()"
   ]
  },
  {
   "cell_type": "code",
   "execution_count": 282,
   "metadata": {},
   "outputs": [
    {
     "name": "stdout",
     "output_type": "stream",
     "text": [
      "Kim Kim\n"
     ]
    }
   ],
   "source": [
    "# 6) 클래스 변수\n",
    "class Family:\n",
    "    last_name = 'Kim'\n",
    "    \n",
    "# Family.last_name = 'Park' \n",
    "a = Family()\n",
    "b = Family()\n",
    "print(a.last_name, b.last_name)"
   ]
  },
  {
   "cell_type": "markdown",
   "metadata": {},
   "source": [
    "#### 모듈 (Module)"
   ]
  },
  {
   "cell_type": "code",
   "execution_count": 290,
   "metadata": {},
   "outputs": [],
   "source": [
    "# 1) 모듈 불러오기\n",
    "import pandas as pd\n",
    "import numpy as np\n",
    "import matplotlib.pyplot as plt\n",
    "from sklearn.datasets import load_breast_cancer"
   ]
  },
  {
   "cell_type": "markdown",
   "metadata": {},
   "source": [
    "#### 예외 처리"
   ]
  },
  {
   "cell_type": "code",
   "execution_count": 300,
   "metadata": {},
   "outputs": [
    {
     "name": "stdout",
     "output_type": "stream",
     "text": [
      "division by zero\n"
     ]
    }
   ],
   "source": [
    "# 1) try - except 문\n",
    "try:\n",
    "    4 / 0\n",
    "except ZeroDivisionError as e:\n",
    "    print(e)"
   ]
  },
  {
   "cell_type": "code",
   "execution_count": 302,
   "metadata": {},
   "outputs": [],
   "source": [
    "# 2) try - finally 문\n",
    "try:\n",
    "    f = open('foo.txt', 'w')\n",
    "finally:\n",
    "    f.close()"
   ]
  },
  {
   "cell_type": "code",
   "execution_count": 304,
   "metadata": {},
   "outputs": [
    {
     "name": "stdout",
     "output_type": "stream",
     "text": [
      "list index out of range\n"
     ]
    }
   ],
   "source": [
    "# 3) 여러 개의 오류 처리하기\n",
    "try:\n",
    "    a = [1, 2]\n",
    "    print(a[3])\n",
    "    4 / 0\n",
    "# except(ZeroDivisionError, IndexError) as e:\n",
    "except ZeroDivisionError as e:\n",
    "    print(e)\n",
    "except IndexError as e:\n",
    "    print(e)"
   ]
  },
  {
   "cell_type": "code",
   "execution_count": 306,
   "metadata": {},
   "outputs": [
    {
     "name": "stdout",
     "output_type": "stream",
     "text": [
      "Welcome\n"
     ]
    }
   ],
   "source": [
    "# 4) try - else 문\n",
    "try:\n",
    "    age = int(input('your age: '))\n",
    "except:\n",
    "    print('Enter as a number')\n",
    "else:\n",
    "    if age <= 18:\n",
    "        print('Off Limits')\n",
    "    else:\n",
    "        print('Welcome')"
   ]
  },
  {
   "cell_type": "code",
   "execution_count": 307,
   "metadata": {},
   "outputs": [],
   "source": [
    "# 5) 오류 회피하기 - 특정 오류 발생할 경우에 통과\n",
    "try:\n",
    "    f = open('notfile.txt', 'r')\n",
    "except FileNotFoundError:\n",
    "    pass"
   ]
  },
  {
   "cell_type": "code",
   "execution_count": 309,
   "metadata": {},
   "outputs": [],
   "source": [
    "# 6) 오류 일부러 발생시키기 - raise\n",
    "class Bird:\n",
    "    def fly(self):\n",
    "        raise NotImplementedError\n",
    "    \n",
    "class Eagle(Bird):\n",
    "    pass"
   ]
  },
  {
   "cell_type": "code",
   "execution_count": 315,
   "metadata": {},
   "outputs": [
    {
     "name": "stdout",
     "output_type": "stream",
     "text": [
      "Unacceptable Nickname\n"
     ]
    }
   ],
   "source": [
    "# 7) 예외 만들기 - Exception\n",
    "class MyError(Exception):\n",
    "    def __str__(self):\n",
    "        return 'Unacceptable Nickname'\n",
    "\n",
    "def say_nick(nick):\n",
    "    if nick == 'stupid':\n",
    "        raise MyError()\n",
    "    print(nick)\n",
    "\n",
    "try:\n",
    "    say_nick('stupid')\n",
    "except MyError as e:\n",
    "    print(e)"
   ]
  },
  {
   "cell_type": "markdown",
   "metadata": {},
   "source": [
    "#### 내장 함수 (bulit-in Function)"
   ]
  },
  {
   "cell_type": "code",
   "execution_count": 323,
   "metadata": {},
   "outputs": [
    {
     "data": {
      "text/plain": [
       "1.2"
      ]
     },
     "execution_count": 323,
     "metadata": {},
     "output_type": "execute_result"
    }
   ],
   "source": [
    "# 1) abs - 절댓값\n",
    "abs(-1.2)"
   ]
  },
  {
   "cell_type": "code",
   "execution_count": 324,
   "metadata": {},
   "outputs": [
    {
     "name": "stdout",
     "output_type": "stream",
     "text": [
      "False True\n"
     ]
    }
   ],
   "source": [
    "# 2) all - 모두 참이면 True\n",
    "li = [1, 2, 3, 4, 5, 6, 7, 8, 9, 0]\n",
    "print(all(li), end = ' ')\n",
    "# all 입력 인수가 빈 값인 경우에는 True\n",
    "print(all([]))"
   ]
  },
  {
   "cell_type": "code",
   "execution_count": 325,
   "metadata": {},
   "outputs": [
    {
     "name": "stdout",
     "output_type": "stream",
     "text": [
      "True False\n"
     ]
    }
   ],
   "source": [
    "# 3) any - 요소 중 하나라도 참이면 True\n",
    "li = [1, 2, 3, 4, 5, 6, 7, 8, 9, 0]\n",
    "print(any(li), end = ' ')\n",
    "# any 입력 인수가 빈 값인 경우에는 False\n",
    "print(any([]))"
   ]
  },
  {
   "cell_type": "code",
   "execution_count": 326,
   "metadata": {},
   "outputs": [
    {
     "name": "stdout",
     "output_type": "stream",
     "text": [
      "a 가\n"
     ]
    }
   ],
   "source": [
    "# 4) chr - 유니코드 숫자값을 입력받아 해당하는 문자를 리턴\n",
    "print(chr(97), chr(44032))"
   ]
  },
  {
   "cell_type": "code",
   "execution_count": 329,
   "metadata": {},
   "outputs": [
    {
     "name": "stdout",
     "output_type": "stream",
     "text": [
      "['__add__', '__class__', '__class_getitem__', '__contains__', '__delattr__']\n",
      "['__class__', '__class_getitem__', '__contains__', '__delattr__', '__delitem__']\n"
     ]
    }
   ],
   "source": [
    "# 5) dir - 객체가 지닌 변수나 함수를 보여주는 함수\n",
    "print(dir([1, 2, 3])[:5])\n",
    "print(dir({})[:5])"
   ]
  },
  {
   "cell_type": "code",
   "execution_count": 330,
   "metadata": {},
   "outputs": [
    {
     "data": {
      "text/plain": [
       "(3, 1)"
      ]
     },
     "execution_count": 330,
     "metadata": {},
     "output_type": "execute_result"
    }
   ],
   "source": [
    "# 6) divmod - 2개의 숫자를 나눈 몫과 나머지를 튜플로 리턴\n",
    "divmod(10, 3)"
   ]
  },
  {
   "cell_type": "code",
   "execution_count": 346,
   "metadata": {},
   "outputs": [
    {
     "name": "stdout",
     "output_type": "stream",
     "text": [
      "{0: 'body', 1: 'foo', 2: 'bar'}\n"
     ]
    }
   ],
   "source": [
    "# 7) enumerate - 순서가 있는 데이터를 입력받아 인덱스 값을 포함하는 객체로 리턴\n",
    "dic = {}\n",
    "for i, name in enumerate(['body', 'foo', 'bar']):\n",
    "    dic[i] = name \n",
    "print(dic)"
   ]
  },
  {
   "cell_type": "code",
   "execution_count": 350,
   "metadata": {},
   "outputs": [
    {
     "name": "stdout",
     "output_type": "stream",
     "text": [
      "3 hia\n"
     ]
    }
   ],
   "source": [
    "# 8) eval - 문자열로 구성된 표현식을 입력받아 실행한 결과값을 리턴\n",
    "print(eval('1 + 2'), eval(\"'hi' + 'a'\"))"
   ]
  },
  {
   "cell_type": "code",
   "execution_count": 352,
   "metadata": {},
   "outputs": [
    {
     "name": "stdout",
     "output_type": "stream",
     "text": [
      "[1, 2, 6]\n"
     ]
    }
   ],
   "source": [
    "# 9) filter - 함수를 호출했을 때 리턴값이 참인 것만 묶어서 리턴\n",
    "def positive(x):\n",
    "    return x > 0\n",
    "\n",
    "# list(filter(lambda x: x > 0, [1, -3, 2, 0, -5, -3, 6])))))\n",
    "print(list(filter(positive, [1, -3, 2, 0, -5, -3, 6])))"
   ]
  },
  {
   "cell_type": "code",
   "execution_count": 353,
   "metadata": {},
   "outputs": [
    {
     "name": "stdout",
     "output_type": "stream",
     "text": [
      "0xea 0x3\n"
     ]
    }
   ],
   "source": [
    "# 10) hex - 정수를 입력받아 16진수 문자열로 변환하여 리턴\n",
    "print(hex(234), hex(3))"
   ]
  },
  {
   "cell_type": "code",
   "execution_count": 383,
   "metadata": {},
   "outputs": [
    {
     "name": "stdout",
     "output_type": "stream",
     "text": [
      "140717510294008 140717510294008 140717510294008\n"
     ]
    }
   ],
   "source": [
    "# 11) id - 객체의 고유 주솟값을 리턴\n",
    "a = 3\n",
    "b = a\n",
    "print(id(3), id(a), id(b))"
   ]
  },
  {
   "cell_type": "code",
   "execution_count": 356,
   "metadata": {},
   "outputs": [
    {
     "data": {
      "text/plain": [
       "'hi'"
      ]
     },
     "execution_count": 356,
     "metadata": {},
     "output_type": "execute_result"
    }
   ],
   "source": [
    "# 12) input\n",
    "a = input('Enter: ')\n",
    "a"
   ]
  },
  {
   "cell_type": "code",
   "execution_count": 382,
   "metadata": {},
   "outputs": [
    {
     "name": "stdout",
     "output_type": "stream",
     "text": [
      "3 3\n"
     ]
    }
   ],
   "source": [
    "# 13) int - 정수로 리턴\n",
    "print(int(3), int(3.4))"
   ]
  },
  {
   "cell_type": "code",
   "execution_count": 358,
   "metadata": {},
   "outputs": [
    {
     "name": "stdout",
     "output_type": "stream",
     "text": [
      "True\n"
     ]
    }
   ],
   "source": [
    "# 14) isinstance - 객체가 클래스의 인스턴스인지를 판단하여 리턴\n",
    "class Person:\n",
    "    pass\n",
    "\n",
    "a = Person()\n",
    "print(isinstance(a, Person))"
   ]
  },
  {
   "cell_type": "code",
   "execution_count": 359,
   "metadata": {},
   "outputs": [
    {
     "name": "stdout",
     "output_type": "stream",
     "text": [
      "6 3 2\n"
     ]
    }
   ],
   "source": [
    "# 15) len - 입력값의 길이를 리턴\n",
    "print(len('python'), len([1, 2, 3]), len((1, 'a')))"
   ]
  },
  {
   "cell_type": "code",
   "execution_count": 360,
   "metadata": {},
   "outputs": [
    {
     "name": "stdout",
     "output_type": "stream",
     "text": [
      "['p', 'y', 't', 'h', 'o', 'n'] [1, 2, 3]\n"
     ]
    }
   ],
   "source": [
    "# 16) list - 리스트로 만들어 리턴\n",
    "print(list('python'), list((1, 2, 3)))"
   ]
  },
  {
   "cell_type": "code",
   "execution_count": 361,
   "metadata": {},
   "outputs": [
    {
     "data": {
      "text/plain": [
       "[2, 4, 6, 8, 10, 12]"
      ]
     },
     "execution_count": 361,
     "metadata": {},
     "output_type": "execute_result"
    }
   ],
   "source": [
    "# 17) map - 입력받은 데이터의 각 요소에 함수를 적용한 결과를 리턴\n",
    "def two_times(x):\n",
    "    return x * 2\n",
    "\n",
    "# list(map(lambda x: x * 2, [1, 2, 3, 4, 5, 6]))\n",
    "list(map(two_times, [1, 2, 3, 4, 5, 6]))"
   ]
  },
  {
   "cell_type": "code",
   "execution_count": 362,
   "metadata": {},
   "outputs": [
    {
     "name": "stdout",
     "output_type": "stream",
     "text": [
      "39\n"
     ]
    }
   ],
   "source": [
    "# 18) max - 최댓값을 리턴\n",
    "print(max([4, 5, 35, 4, 26, 39]))"
   ]
  },
  {
   "cell_type": "code",
   "execution_count": 363,
   "metadata": {},
   "outputs": [
    {
     "name": "stdout",
     "output_type": "stream",
     "text": [
      "4\n"
     ]
    }
   ],
   "source": [
    "# 19) min - 최솟값을 리턴\n",
    "print(min([4, 5, 35, 4, 26, 39]))"
   ]
  },
  {
   "cell_type": "code",
   "execution_count": 384,
   "metadata": {},
   "outputs": [
    {
     "name": "stdout",
     "output_type": "stream",
     "text": [
      "0o42 0o30071\n"
     ]
    }
   ],
   "source": [
    "# 20) oct - 정수를 입력받아 8진수 문자열로 변환하여 리턴\n",
    "print(oct(34), oct(12345))"
   ]
  },
  {
   "cell_type": "code",
   "execution_count": 366,
   "metadata": {},
   "outputs": [
    {
     "name": "stdout",
     "output_type": "stream",
     "text": [
      "[Errno 2] No such file or directory: 'binary_file'\n"
     ]
    }
   ],
   "source": [
    "# 21) open - 파일객체를 리턴\n",
    "try:\n",
    "    f = open('binary_file', 'rb')\n",
    "except FileNotFoundError as e:\n",
    "    print(e)"
   ]
  },
  {
   "cell_type": "code",
   "execution_count": 385,
   "metadata": {},
   "outputs": [
    {
     "name": "stdout",
     "output_type": "stream",
     "text": [
      "97 44032\n"
     ]
    }
   ],
   "source": [
    "# 22) ord - 문자의 유니코드 숫자 값을 리턴\n",
    "print(ord('a'), ord('가'))"
   ]
  },
  {
   "cell_type": "code",
   "execution_count": 386,
   "metadata": {},
   "outputs": [
    {
     "name": "stdout",
     "output_type": "stream",
     "text": [
      "1024 27\n"
     ]
    }
   ],
   "source": [
    "# 23) pow - 제곱합 결과값을 리턴\n",
    "print(pow(2, 10), pow(3, 3))"
   ]
  },
  {
   "cell_type": "code",
   "execution_count": 370,
   "metadata": {},
   "outputs": [
    {
     "name": "stdout",
     "output_type": "stream",
     "text": [
      "[0, 1, 2, 3, 4]\n",
      "[5, 6, 7, 8]\n",
      "[0, -1, -2, -3, -4]\n"
     ]
    }
   ],
   "source": [
    "# 24) range - 입력받은 숫자에 해당하는 범위 값을 리턴\n",
    "print(list(range(5)))\n",
    "print(list(range(5, 9)))\n",
    "print(list(range(0, -5, -1)))"
   ]
  },
  {
   "cell_type": "code",
   "execution_count": 387,
   "metadata": {},
   "outputs": [
    {
     "name": "stdout",
     "output_type": "stream",
     "text": [
      "4 5.659\n"
     ]
    }
   ],
   "source": [
    "# 25) round - 반올림해 리턴\n",
    "print(round(4.5), round(5.6594, 3))"
   ]
  },
  {
   "cell_type": "code",
   "execution_count": 388,
   "metadata": {},
   "outputs": [
    {
     "name": "stdout",
     "output_type": "stream",
     "text": [
      "[1, 2, 3, 4] ['e', 'o', 'r', 'z']\n"
     ]
    }
   ],
   "source": [
    "# 26) sorted - 정렬한 후 리스트로 리턴\n",
    "print(sorted([3, 1, 2, 4]), sorted('zero'))"
   ]
  },
  {
   "cell_type": "code",
   "execution_count": 389,
   "metadata": {},
   "outputs": [
    {
     "name": "stdout",
     "output_type": "stream",
     "text": [
      "3 hi\n"
     ]
    }
   ],
   "source": [
    "# 27) str - 문자열 형태로 객체를 변환하여 리턴\n",
    "print(str(3), str('hi'))"
   ]
  },
  {
   "cell_type": "code",
   "execution_count": 390,
   "metadata": {},
   "outputs": [
    {
     "name": "stdout",
     "output_type": "stream",
     "text": [
      "6 15\n"
     ]
    }
   ],
   "source": [
    "# 28) sum - 합을 리턴\n",
    "print(sum([1, 2, 3]), sum([4, 5, 6]))"
   ]
  },
  {
   "cell_type": "code",
   "execution_count": 391,
   "metadata": {},
   "outputs": [
    {
     "name": "stdout",
     "output_type": "stream",
     "text": [
      "('a', 'b', 'c') (1, 2, 3) (1, 2, 3)\n"
     ]
    }
   ],
   "source": [
    "# 29) tuple - 튜플로 바꾸어 리턴\n",
    "print(tuple('abc'), tuple([1, 2, 3]), tuple((1, 2, 3)))"
   ]
  },
  {
   "cell_type": "code",
   "execution_count": 392,
   "metadata": {},
   "outputs": [
    {
     "name": "stdout",
     "output_type": "stream",
     "text": [
      "<class 'str'> <class 'list'> <class '_io.TextIOWrapper'>\n"
     ]
    }
   ],
   "source": [
    "# 30) type - 입력값의 자료형을 리턴\n",
    "print(type('abc'), type([]), type(open('test', 'w')))"
   ]
  },
  {
   "cell_type": "code",
   "execution_count": 393,
   "metadata": {},
   "outputs": [
    {
     "name": "stdout",
     "output_type": "stream",
     "text": [
      "[(1, 4), (2, 5), (3, 6)] [(1, 4, 7), (2, 5, 8), (3, 6, 9)] [('a', 'd'), ('b', 'e'), ('c', 'f')]\n"
     ]
    }
   ],
   "source": [
    "# 31) zip - 동일한 개수로 이루어진 데이터들을 묶어서 리턴\n",
    "print(list(zip([1, 2, 3], [4, 5, 6])), list(zip([1, 2, 3], [4, 5, 6], [7, 8, 9])), list(zip('abc', 'def')))"
   ]
  },
  {
   "cell_type": "markdown",
   "metadata": {},
   "source": [
    "#### 표준 라이브러리 (library)"
   ]
  },
  {
   "cell_type": "code",
   "execution_count": 404,
   "metadata": {},
   "outputs": [
    {
     "name": "stdout",
     "output_type": "stream",
     "text": [
      "1051 5 6 "
     ]
    }
   ],
   "source": [
    "# 1) datetime.date - 연,월,일로 날짜를 표현할 때 사용\n",
    "import datetime\n",
    "day1 = datetime.date(2021, 8, 23)\n",
    "day2 = datetime.date.today()\n",
    "\n",
    "diff  = day2 - day1\n",
    "print(diff.days, end = ' ')\n",
    "\n",
    "day = datetime.date(2024, 7, 13)\n",
    "# 0: Mon, 1: Tue, ··· 6: Sun\n",
    "print(day.weekday(), end = ' ')\n",
    "# 1: Mon, 2: Tue, ··· 7: Sun\n",
    "print(day.isoweekday(), end = ' ')"
   ]
  },
  {
   "cell_type": "code",
   "execution_count": 406,
   "metadata": {},
   "outputs": [
    {
     "data": {
      "text/plain": [
       "1720510748.2776415"
      ]
     },
     "execution_count": 406,
     "metadata": {},
     "output_type": "execute_result"
    }
   ],
   "source": [
    "# 2) time.time - 19700101:00h00m00s 기준으로 현재 시간을 실수형태로 리턴\n",
    "import time\n",
    "time.time()"
   ]
  },
  {
   "cell_type": "code",
   "execution_count": 413,
   "metadata": {},
   "outputs": [
    {
     "data": {
      "text/plain": [
       "time.struct_time(tm_year=2024, tm_mon=7, tm_mday=9, tm_hour=16, tm_min=41, tm_sec=24, tm_wday=1, tm_yday=191, tm_isdst=0)"
      ]
     },
     "execution_count": 413,
     "metadata": {},
     "output_type": "execute_result"
    }
   ],
   "source": [
    "# 3) time.localtime - time.time()이 리턴한 실수값을 연, 월, ··· 의 형태로 변환\n",
    "time.localtime(time.time())"
   ]
  },
  {
   "cell_type": "code",
   "execution_count": 414,
   "metadata": {},
   "outputs": [
    {
     "data": {
      "text/plain": [
       "'Tue Jul  9 16:42:18 2024'"
      ]
     },
     "execution_count": 414,
     "metadata": {},
     "output_type": "execute_result"
    }
   ],
   "source": [
    "# 4) time.asctime - time.loacltime가 리턴된 값을 날짜와 시간을 알아보기 쉬운 형태로 리턴\n",
    "time.asctime(time.localtime(time.time()))"
   ]
  },
  {
   "cell_type": "code",
   "execution_count": 415,
   "metadata": {},
   "outputs": [
    {
     "data": {
      "text/plain": [
       "'Tue Jul  9 16:43:17 2024'"
      ]
     },
     "execution_count": 415,
     "metadata": {},
     "output_type": "execute_result"
    }
   ],
   "source": [
    "# 5) time.ctime - time.asctime(time.localtime(time.time()))을 간단하게 표현\n",
    "time.ctime()"
   ]
  },
  {
   "cell_type": "code",
   "execution_count": 417,
   "metadata": {},
   "outputs": [
    {
     "name": "stdout",
     "output_type": "stream",
     "text": [
      "07/09/24\n",
      "Tue Jul  9 16:55:21 2024\n"
     ]
    }
   ],
   "source": [
    "# 6) time.strftime - 시간에 관계된 것을 세밀하게 표현하는 여러가지 포맷 코드를 제공\n",
    "import time\n",
    "print(time.strftime('%x', time.localtime(time.time())))\n",
    "print(time.strftime('%c', time.localtime(time.time())))"
   ]
  },
  {
   "cell_type": "code",
   "execution_count": 420,
   "metadata": {},
   "outputs": [
    {
     "name": "stdout",
     "output_type": "stream",
     "text": [
      "[0, 1, 2, 3, 4, 5, 6, 7, 8, 9]\n"
     ]
    }
   ],
   "source": [
    "# 7) time.sleep - 일정한 시간 간격을 두고 루프를 실행\n",
    "import time\n",
    "li = []\n",
    "for i in range(10):\n",
    "    li.append(i)\n",
    "    time.sleep(0.5)\n",
    "print(li)"
   ]
  },
  {
   "cell_type": "code",
   "execution_count": 421,
   "metadata": {},
   "outputs": [
    {
     "data": {
      "text/plain": [
       "20"
      ]
     },
     "execution_count": 421,
     "metadata": {},
     "output_type": "execute_result"
    }
   ],
   "source": [
    "# 8) math.gcd - 최대공약수\n",
    "import math\n",
    "math.gcd(60, 100, 80)"
   ]
  },
  {
   "cell_type": "code",
   "execution_count": 422,
   "metadata": {},
   "outputs": [
    {
     "data": {
      "text/plain": [
       "75"
      ]
     },
     "execution_count": 422,
     "metadata": {},
     "output_type": "execute_result"
    }
   ],
   "source": [
    "# 9) math.lcm - 최소공배수\n",
    "import math\n",
    "math.lcm(15, 25)"
   ]
  },
  {
   "cell_type": "code",
   "execution_count": 423,
   "metadata": {},
   "outputs": [
    {
     "data": {
      "text/plain": [
       "0.7297688313029799"
      ]
     },
     "execution_count": 423,
     "metadata": {},
     "output_type": "execute_result"
    }
   ],
   "source": [
    "# 10) random.random - 0.0 ~ 1.0 사이의 실수 중에서 난수값을 리턴\n",
    "import random\n",
    "random.random()"
   ]
  },
  {
   "cell_type": "code",
   "execution_count": 425,
   "metadata": {},
   "outputs": [
    {
     "name": "stdout",
     "output_type": "stream",
     "text": [
      "7 18\n"
     ]
    }
   ],
   "source": [
    "# 11) random.randint - 정수 중에서 난수값을 리턴\n",
    "import random\n",
    "print(random.randint(1, 10), random.randint(1, 55))"
   ]
  },
  {
   "cell_type": "code",
   "execution_count": 426,
   "metadata": {},
   "outputs": [
    {
     "data": {
      "text/plain": [
       "1"
      ]
     },
     "execution_count": 426,
     "metadata": {},
     "output_type": "execute_result"
    }
   ],
   "source": [
    "# 12) random.choice - 입력에서 무작위로 하나를 선택하여 리턴\n",
    "def random_pop(data):\n",
    "    number = random.choice(data)\n",
    "    data.remove(number)\n",
    "    return number\n",
    "\n",
    "data = [1, 2, 3, 4, 5]\n",
    "random_pop(data)"
   ]
  },
  {
   "cell_type": "code",
   "execution_count": 427,
   "metadata": {},
   "outputs": [
    {
     "data": {
      "text/plain": [
       "[5, 2, 1]"
      ]
     },
     "execution_count": 427,
     "metadata": {},
     "output_type": "execute_result"
    }
   ],
   "source": [
    "# 13) random.sample - 리스트의 항목을 무작위로 섞어서 리턴\n",
    "import random\n",
    "data = [1, 2, 3, 4, 5]\n",
    "random.sample(data, 3) "
   ]
  },
  {
   "cell_type": "code",
   "execution_count": 428,
   "metadata": {},
   "outputs": [
    {
     "name": "stdout",
     "output_type": "stream",
     "text": [
      "[('a', '1'), ('b', '2'), ('c', '3'), ('d', '10'), ('e', '10')]\n"
     ]
    }
   ],
   "source": [
    "# 14) itertools.zip_longest - 길이가 서로 다르면 긴 객체의 길이에 맞춰 fillvalue 값을 채워 리턴\n",
    "import itertools\n",
    "students = ['a', 'b', 'c', 'd', 'e']\n",
    "snacks = ['1', '2', '3']\n",
    "result = itertools.zip_longest(students, snacks, fillvalue = '10')\n",
    "print(list(result))"
   ]
  },
  {
   "cell_type": "code",
   "execution_count": 429,
   "metadata": {},
   "outputs": [
    {
     "data": {
      "text/plain": [
       "[('1', '2'), ('1', '3'), ('2', '1'), ('2', '3'), ('3', '1'), ('3', '2')]"
      ]
     },
     "execution_count": 429,
     "metadata": {},
     "output_type": "execute_result"
    }
   ],
   "source": [
    "# 15) itertools.permutations - 순열을 리턴\n",
    "import itertools\n",
    "list(itertools.permutations(['1', '2', '3'], 2))"
   ]
  },
  {
   "cell_type": "code",
   "execution_count": 434,
   "metadata": {},
   "outputs": [
    {
     "data": {
      "text/plain": [
       "8145060"
      ]
     },
     "execution_count": 434,
     "metadata": {},
     "output_type": "execute_result"
    }
   ],
   "source": [
    "# 16) itertools.combinations - 조합을 리턴\n",
    "import itertools\n",
    "# 중복 조합은 itertools.combinations_with_replacement\n",
    "it = itertools.combinations(range(1, 46), 6)\n",
    "len(list(it))"
   ]
  },
  {
   "cell_type": "code",
   "execution_count": 437,
   "metadata": {},
   "outputs": [
    {
     "name": "stdout",
     "output_type": "stream",
     "text": [
      "14\n"
     ]
    }
   ],
   "source": [
    "# 17) functools.reduce - 함수를 요소에 차례대로(왼쪽에서 오른쪽) 누적 적용하여 하나의 값으로 줄여 리턴\n",
    "import functools\n",
    "data = [3, 2, 8, 1, 6, 7, 14, 5, 9]\n",
    "max_num = functools.reduce(lambda x, y: x if x > y else y, data)\n",
    "print(max_num)"
   ]
  },
  {
   "cell_type": "markdown",
   "metadata": {},
   "source": [
    "------------------------------------------------ 2024.07.10 -------------------------------------------------------------"
   ]
  },
  {
   "cell_type": "code",
   "execution_count": 8,
   "metadata": {},
   "outputs": [
    {
     "name": "stdout",
     "output_type": "stream",
     "text": [
      "[('sally', 17, 'B'), ('jane', 22, 'A'), ('dave', 32, 'B')]\n",
      "[{'name': 'sally', 'age': 17, 'grade': 'B'}, {'name': 'jane', 'age': 22, 'grade': 'A'}, {'name': 'dave', 'age': 32, 'grade': 'B'}]\n"
     ]
    }
   ],
   "source": [
    "# 18) operator.itemgetter - sorted와 같은 함수의 key 매개변수에 적용하여 다양한 기준으로 정렬\n",
    "#                           리스트의 요소가 튜플이 아닌 클래스의 객체라면 attrgetter() 적용\n",
    "from operator import itemgetter\n",
    "students = [('jane', 22, 'A'), ('dave', 32, 'B'), ('sally', 17, 'B')]\n",
    "result1 = sorted(students, key = itemgetter(1))\n",
    "\n",
    "students = [{'name': 'jane', 'age': 22, 'grade': 'A'}, {'name': 'dave', 'age': 32, 'grade': 'B'}, {'name': 'sally', 'age': 17, 'grade': 'B'}]\n",
    "result2 = sorted(students, key = itemgetter('age'))\n",
    "\n",
    "print(result1)\n",
    "print(result2)"
   ]
  },
  {
   "cell_type": "code",
   "execution_count": null,
   "metadata": {},
   "outputs": [],
   "source": [
    "# 19) shutil - 파일을 복사하거나 이동할때 사용\n",
    "# import shutil\n",
    "\n",
    "# shutil.copy('a', 'b')"
   ]
  },
  {
   "cell_type": "code",
   "execution_count": 19,
   "metadata": {},
   "outputs": [
    {
     "data": {
      "text/plain": [
       "['D:/python\\\\sample.ipynb']"
      ]
     },
     "execution_count": 19,
     "metadata": {},
     "output_type": "execute_result"
    }
   ],
   "source": [
    "# 20) glob - 특정 디렉토리에 있는 파일 이름\n",
    "import glob\n",
    "glob.glob(\"D:/python/*\")"
   ]
  },
  {
   "cell_type": "code",
   "execution_count": null,
   "metadata": {},
   "outputs": [],
   "source": [
    "# 21) pickle - 객체의 형태를 유지하면서 파일에 저장하고 불러올 수 있게 하는 모듈\n",
    "import pickle\n",
    "f = open()"
   ]
  },
  {
   "cell_type": "code",
   "execution_count": 2,
   "metadata": {},
   "outputs": [
    {
     "data": {
      "text/plain": [
       "'Michael Johnson'"
      ]
     },
     "execution_count": 2,
     "metadata": {},
     "output_type": "execute_result"
    }
   ],
   "source": [
    "from faker import Faker\n",
    "fake = Faker()\n",
    "fake.name()"
   ]
  },
  {
   "cell_type": "code",
   "execution_count": 3,
   "metadata": {},
   "outputs": [
    {
     "data": {
      "text/plain": [
       "'류지훈'"
      ]
     },
     "execution_count": 3,
     "metadata": {},
     "output_type": "execute_result"
    }
   ],
   "source": [
    "fake = Faker('ko-KR')\n",
    "fake.name()"
   ]
  },
  {
   "cell_type": "code",
   "execution_count": 5,
   "metadata": {},
   "outputs": [
    {
     "data": {
      "text/plain": [
       "'충청남도 의정부시 서초중앙로 (준서황리)'"
      ]
     },
     "execution_count": 5,
     "metadata": {},
     "output_type": "execute_result"
    }
   ],
   "source": [
    "fake.address()"
   ]
  },
  {
   "cell_type": "code",
   "execution_count": 7,
   "metadata": {},
   "outputs": [
    {
     "data": {
      "text/plain": [
       "[4400]"
      ]
     },
     "execution_count": 7,
     "metadata": {},
     "output_type": "execute_result"
    }
   ],
   "source": [
    "from fractions import Fraction\n",
    "import sympy\n",
    "# 방정식에 사용하는 미지수를 나타내는 기호를 생성\n",
    "x = sympy.symbols('x')\n",
    "f = sympy.Eq(x * Fraction('2/5'), 1760)\n",
    "\n",
    "result = sympy.solve(f)\n",
    "result"
   ]
  },
  {
   "cell_type": "code",
   "execution_count": 8,
   "metadata": {},
   "outputs": [
    {
     "data": {
      "text/plain": [
       "{x: 7, y: 3}"
      ]
     },
     "execution_count": 8,
     "metadata": {},
     "output_type": "execute_result"
    }
   ],
   "source": [
    "import sympy\n",
    "x, y = sympy.symbols('x y')\n",
    "f1 = sympy.Eq(x + y, 10)\n",
    "f2 = sympy.Eq(x - y, 4)\n",
    "sympy.solve([f1, f2])"
   ]
  },
  {
   "cell_type": "code",
   "execution_count": null,
   "metadata": {},
   "outputs": [],
   "source": []
  },
  {
   "cell_type": "code",
   "execution_count": null,
   "metadata": {},
   "outputs": [],
   "source": []
  },
  {
   "cell_type": "code",
   "execution_count": null,
   "metadata": {},
   "outputs": [],
   "source": []
  },
  {
   "cell_type": "code",
   "execution_count": null,
   "metadata": {},
   "outputs": [],
   "source": []
  },
  {
   "cell_type": "code",
   "execution_count": null,
   "metadata": {},
   "outputs": [],
   "source": []
  },
  {
   "cell_type": "code",
   "execution_count": null,
   "metadata": {},
   "outputs": [],
   "source": []
  }
 ],
 "metadata": {
  "kernelspec": {
   "display_name": "Python 3",
   "language": "python",
   "name": "python3"
  },
  "language_info": {
   "codemirror_mode": {
    "name": "ipython",
    "version": 3
   },
   "file_extension": ".py",
   "mimetype": "text/x-python",
   "name": "python",
   "nbconvert_exporter": "python",
   "pygments_lexer": "ipython3",
   "version": "3.12.4"
  }
 },
 "nbformat": 4,
 "nbformat_minor": 2
}
